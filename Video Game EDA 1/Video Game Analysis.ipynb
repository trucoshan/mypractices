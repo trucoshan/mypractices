{
 "cells": [
  {
   "cell_type": "code",
   "execution_count": 1,
   "id": "95cf0b05-ef5c-4d64-9863-b2b84a62fff8",
   "metadata": {},
   "outputs": [],
   "source": [
    "# importing all required packages\n",
    "import numpy as np\n",
    "import pandas as pd\n",
    "import matplotlib.pyplot as plt\n",
    "import seaborn as sns"
   ]
  },
  {
   "cell_type": "code",
   "execution_count": 2,
   "id": "cf0fd930-a358-47f9-a07c-eca0e73e3cde",
   "metadata": {},
   "outputs": [],
   "source": [
    "df = pd.read_csv(\"C:/Users/shant/Desktop/Data/vgsales.csv\") # importing the csv and saving it to df"
   ]
  },
  {
   "cell_type": "code",
   "execution_count": 3,
   "id": "8ae270cc-89fb-4cac-a411-e6d04e453090",
   "metadata": {},
   "outputs": [
    {
     "data": {
      "text/html": [
       "<div>\n",
       "<style scoped>\n",
       "    .dataframe tbody tr th:only-of-type {\n",
       "        vertical-align: middle;\n",
       "    }\n",
       "\n",
       "    .dataframe tbody tr th {\n",
       "        vertical-align: top;\n",
       "    }\n",
       "\n",
       "    .dataframe thead th {\n",
       "        text-align: right;\n",
       "    }\n",
       "</style>\n",
       "<table border=\"1\" class=\"dataframe\">\n",
       "  <thead>\n",
       "    <tr style=\"text-align: right;\">\n",
       "      <th></th>\n",
       "      <th>Rank</th>\n",
       "      <th>Name</th>\n",
       "      <th>Platform</th>\n",
       "      <th>Year</th>\n",
       "      <th>Genre</th>\n",
       "      <th>Publisher</th>\n",
       "      <th>NA_Sales</th>\n",
       "      <th>EU_Sales</th>\n",
       "      <th>JP_Sales</th>\n",
       "      <th>Other_Sales</th>\n",
       "      <th>Global_Sales</th>\n",
       "    </tr>\n",
       "  </thead>\n",
       "  <tbody>\n",
       "    <tr>\n",
       "      <th>0</th>\n",
       "      <td>1</td>\n",
       "      <td>Wii Sports</td>\n",
       "      <td>Wii</td>\n",
       "      <td>2006.0</td>\n",
       "      <td>Sports</td>\n",
       "      <td>Nintendo</td>\n",
       "      <td>41.49</td>\n",
       "      <td>29.02</td>\n",
       "      <td>3.77</td>\n",
       "      <td>8.46</td>\n",
       "      <td>82.74</td>\n",
       "    </tr>\n",
       "    <tr>\n",
       "      <th>1</th>\n",
       "      <td>2</td>\n",
       "      <td>Super Mario Bros.</td>\n",
       "      <td>NES</td>\n",
       "      <td>1985.0</td>\n",
       "      <td>Platform</td>\n",
       "      <td>Nintendo</td>\n",
       "      <td>29.08</td>\n",
       "      <td>3.58</td>\n",
       "      <td>6.81</td>\n",
       "      <td>0.77</td>\n",
       "      <td>40.24</td>\n",
       "    </tr>\n",
       "    <tr>\n",
       "      <th>2</th>\n",
       "      <td>3</td>\n",
       "      <td>Mario Kart Wii</td>\n",
       "      <td>Wii</td>\n",
       "      <td>2008.0</td>\n",
       "      <td>Racing</td>\n",
       "      <td>Nintendo</td>\n",
       "      <td>15.85</td>\n",
       "      <td>12.88</td>\n",
       "      <td>3.79</td>\n",
       "      <td>3.31</td>\n",
       "      <td>35.82</td>\n",
       "    </tr>\n",
       "    <tr>\n",
       "      <th>3</th>\n",
       "      <td>4</td>\n",
       "      <td>Wii Sports Resort</td>\n",
       "      <td>Wii</td>\n",
       "      <td>2009.0</td>\n",
       "      <td>Sports</td>\n",
       "      <td>Nintendo</td>\n",
       "      <td>15.75</td>\n",
       "      <td>11.01</td>\n",
       "      <td>3.28</td>\n",
       "      <td>2.96</td>\n",
       "      <td>33.00</td>\n",
       "    </tr>\n",
       "    <tr>\n",
       "      <th>4</th>\n",
       "      <td>5</td>\n",
       "      <td>Pokemon Red/Pokemon Blue</td>\n",
       "      <td>GB</td>\n",
       "      <td>1996.0</td>\n",
       "      <td>Role-Playing</td>\n",
       "      <td>Nintendo</td>\n",
       "      <td>11.27</td>\n",
       "      <td>8.89</td>\n",
       "      <td>10.22</td>\n",
       "      <td>1.00</td>\n",
       "      <td>31.37</td>\n",
       "    </tr>\n",
       "  </tbody>\n",
       "</table>\n",
       "</div>"
      ],
      "text/plain": [
       "   Rank                      Name Platform    Year         Genre Publisher  \\\n",
       "0     1                Wii Sports      Wii  2006.0        Sports  Nintendo   \n",
       "1     2         Super Mario Bros.      NES  1985.0      Platform  Nintendo   \n",
       "2     3            Mario Kart Wii      Wii  2008.0        Racing  Nintendo   \n",
       "3     4         Wii Sports Resort      Wii  2009.0        Sports  Nintendo   \n",
       "4     5  Pokemon Red/Pokemon Blue       GB  1996.0  Role-Playing  Nintendo   \n",
       "\n",
       "   NA_Sales  EU_Sales  JP_Sales  Other_Sales  Global_Sales  \n",
       "0     41.49     29.02      3.77         8.46         82.74  \n",
       "1     29.08      3.58      6.81         0.77         40.24  \n",
       "2     15.85     12.88      3.79         3.31         35.82  \n",
       "3     15.75     11.01      3.28         2.96         33.00  \n",
       "4     11.27      8.89     10.22         1.00         31.37  "
      ]
     },
     "execution_count": 3,
     "metadata": {},
     "output_type": "execute_result"
    }
   ],
   "source": [
    "df.head() # checking the first 5 rows"
   ]
  },
  {
   "cell_type": "code",
   "execution_count": 4,
   "id": "6999b659-4b1b-490b-909f-7514dafeb1a5",
   "metadata": {},
   "outputs": [
    {
     "data": {
      "text/html": [
       "<div>\n",
       "<style scoped>\n",
       "    .dataframe tbody tr th:only-of-type {\n",
       "        vertical-align: middle;\n",
       "    }\n",
       "\n",
       "    .dataframe tbody tr th {\n",
       "        vertical-align: top;\n",
       "    }\n",
       "\n",
       "    .dataframe thead th {\n",
       "        text-align: right;\n",
       "    }\n",
       "</style>\n",
       "<table border=\"1\" class=\"dataframe\">\n",
       "  <thead>\n",
       "    <tr style=\"text-align: right;\">\n",
       "      <th></th>\n",
       "      <th>Rank</th>\n",
       "      <th>Name</th>\n",
       "      <th>Platform</th>\n",
       "      <th>Year</th>\n",
       "      <th>Genre</th>\n",
       "      <th>Publisher</th>\n",
       "      <th>NA_Sales</th>\n",
       "      <th>EU_Sales</th>\n",
       "      <th>JP_Sales</th>\n",
       "      <th>Other_Sales</th>\n",
       "      <th>Global_Sales</th>\n",
       "    </tr>\n",
       "  </thead>\n",
       "  <tbody>\n",
       "    <tr>\n",
       "      <th>16593</th>\n",
       "      <td>16596</td>\n",
       "      <td>Woody Woodpecker in Crazy Castle 5</td>\n",
       "      <td>GBA</td>\n",
       "      <td>2002.0</td>\n",
       "      <td>Platform</td>\n",
       "      <td>Kemco</td>\n",
       "      <td>0.01</td>\n",
       "      <td>0.00</td>\n",
       "      <td>0.0</td>\n",
       "      <td>0.0</td>\n",
       "      <td>0.01</td>\n",
       "    </tr>\n",
       "    <tr>\n",
       "      <th>16594</th>\n",
       "      <td>16597</td>\n",
       "      <td>Men in Black II: Alien Escape</td>\n",
       "      <td>GC</td>\n",
       "      <td>2003.0</td>\n",
       "      <td>Shooter</td>\n",
       "      <td>Infogrames</td>\n",
       "      <td>0.01</td>\n",
       "      <td>0.00</td>\n",
       "      <td>0.0</td>\n",
       "      <td>0.0</td>\n",
       "      <td>0.01</td>\n",
       "    </tr>\n",
       "    <tr>\n",
       "      <th>16595</th>\n",
       "      <td>16598</td>\n",
       "      <td>SCORE International Baja 1000: The Official Game</td>\n",
       "      <td>PS2</td>\n",
       "      <td>2008.0</td>\n",
       "      <td>Racing</td>\n",
       "      <td>Activision</td>\n",
       "      <td>0.00</td>\n",
       "      <td>0.00</td>\n",
       "      <td>0.0</td>\n",
       "      <td>0.0</td>\n",
       "      <td>0.01</td>\n",
       "    </tr>\n",
       "    <tr>\n",
       "      <th>16596</th>\n",
       "      <td>16599</td>\n",
       "      <td>Know How 2</td>\n",
       "      <td>DS</td>\n",
       "      <td>2010.0</td>\n",
       "      <td>Puzzle</td>\n",
       "      <td>7G//AMES</td>\n",
       "      <td>0.00</td>\n",
       "      <td>0.01</td>\n",
       "      <td>0.0</td>\n",
       "      <td>0.0</td>\n",
       "      <td>0.01</td>\n",
       "    </tr>\n",
       "    <tr>\n",
       "      <th>16597</th>\n",
       "      <td>16600</td>\n",
       "      <td>Spirits &amp; Spells</td>\n",
       "      <td>GBA</td>\n",
       "      <td>2003.0</td>\n",
       "      <td>Platform</td>\n",
       "      <td>Wanadoo</td>\n",
       "      <td>0.01</td>\n",
       "      <td>0.00</td>\n",
       "      <td>0.0</td>\n",
       "      <td>0.0</td>\n",
       "      <td>0.01</td>\n",
       "    </tr>\n",
       "  </tbody>\n",
       "</table>\n",
       "</div>"
      ],
      "text/plain": [
       "        Rank                                              Name Platform  \\\n",
       "16593  16596                Woody Woodpecker in Crazy Castle 5      GBA   \n",
       "16594  16597                     Men in Black II: Alien Escape       GC   \n",
       "16595  16598  SCORE International Baja 1000: The Official Game      PS2   \n",
       "16596  16599                                        Know How 2       DS   \n",
       "16597  16600                                  Spirits & Spells      GBA   \n",
       "\n",
       "         Year     Genre   Publisher  NA_Sales  EU_Sales  JP_Sales  \\\n",
       "16593  2002.0  Platform       Kemco      0.01      0.00       0.0   \n",
       "16594  2003.0   Shooter  Infogrames      0.01      0.00       0.0   \n",
       "16595  2008.0    Racing  Activision      0.00      0.00       0.0   \n",
       "16596  2010.0    Puzzle    7G//AMES      0.00      0.01       0.0   \n",
       "16597  2003.0  Platform     Wanadoo      0.01      0.00       0.0   \n",
       "\n",
       "       Other_Sales  Global_Sales  \n",
       "16593          0.0          0.01  \n",
       "16594          0.0          0.01  \n",
       "16595          0.0          0.01  \n",
       "16596          0.0          0.01  \n",
       "16597          0.0          0.01  "
      ]
     },
     "execution_count": 4,
     "metadata": {},
     "output_type": "execute_result"
    }
   ],
   "source": [
    "df.tail() # checking the last 5 rows"
   ]
  },
  {
   "cell_type": "code",
   "execution_count": 5,
   "id": "7eb95a4c-5636-44b7-a7c8-fab1a832fb3e",
   "metadata": {},
   "outputs": [
    {
     "data": {
      "text/plain": [
       "(16598, 11)"
      ]
     },
     "execution_count": 5,
     "metadata": {},
     "output_type": "execute_result"
    }
   ],
   "source": [
    "df.shape # checking the shape"
   ]
  },
  {
   "cell_type": "code",
   "execution_count": 6,
   "id": "87572d00-ff60-448c-8053-d11d545373e3",
   "metadata": {},
   "outputs": [
    {
     "data": {
      "text/plain": [
       "Index(['Rank', 'Name', 'Platform', 'Year', 'Genre', 'Publisher', 'NA_Sales',\n",
       "       'EU_Sales', 'JP_Sales', 'Other_Sales', 'Global_Sales'],\n",
       "      dtype='object')"
      ]
     },
     "execution_count": 6,
     "metadata": {},
     "output_type": "execute_result"
    }
   ],
   "source": [
    "df.columns # checking column names"
   ]
  },
  {
   "cell_type": "code",
   "execution_count": 7,
   "id": "0f1a8bba-f26a-4bd3-ba09-59558c208ada",
   "metadata": {},
   "outputs": [
    {
     "name": "stdout",
     "output_type": "stream",
     "text": [
      "<class 'pandas.core.frame.DataFrame'>\n",
      "RangeIndex: 16598 entries, 0 to 16597\n",
      "Data columns (total 11 columns):\n",
      " #   Column        Non-Null Count  Dtype  \n",
      "---  ------        --------------  -----  \n",
      " 0   Rank          16598 non-null  int64  \n",
      " 1   Name          16598 non-null  object \n",
      " 2   Platform      16598 non-null  object \n",
      " 3   Year          16327 non-null  float64\n",
      " 4   Genre         16598 non-null  object \n",
      " 5   Publisher     16540 non-null  object \n",
      " 6   NA_Sales      16598 non-null  float64\n",
      " 7   EU_Sales      16598 non-null  float64\n",
      " 8   JP_Sales      16598 non-null  float64\n",
      " 9   Other_Sales   16598 non-null  float64\n",
      " 10  Global_Sales  16598 non-null  float64\n",
      "dtypes: float64(6), int64(1), object(4)\n",
      "memory usage: 1.4+ MB\n"
     ]
    }
   ],
   "source": [
    "df.info() # checking an overview of the dataset"
   ]
  },
  {
   "cell_type": "code",
   "execution_count": 8,
   "id": "de1a7fb4-dcfb-4d64-a147-49d5fc355e2e",
   "metadata": {},
   "outputs": [
    {
     "data": {
      "text/html": [
       "<div>\n",
       "<style scoped>\n",
       "    .dataframe tbody tr th:only-of-type {\n",
       "        vertical-align: middle;\n",
       "    }\n",
       "\n",
       "    .dataframe tbody tr th {\n",
       "        vertical-align: top;\n",
       "    }\n",
       "\n",
       "    .dataframe thead th {\n",
       "        text-align: right;\n",
       "    }\n",
       "</style>\n",
       "<table border=\"1\" class=\"dataframe\">\n",
       "  <thead>\n",
       "    <tr style=\"text-align: right;\">\n",
       "      <th></th>\n",
       "      <th>Rank</th>\n",
       "      <th>Year</th>\n",
       "      <th>NA_Sales</th>\n",
       "      <th>EU_Sales</th>\n",
       "      <th>JP_Sales</th>\n",
       "      <th>Other_Sales</th>\n",
       "      <th>Global_Sales</th>\n",
       "    </tr>\n",
       "  </thead>\n",
       "  <tbody>\n",
       "    <tr>\n",
       "      <th>count</th>\n",
       "      <td>16598.000000</td>\n",
       "      <td>16327.000000</td>\n",
       "      <td>16598.000000</td>\n",
       "      <td>16598.000000</td>\n",
       "      <td>16598.000000</td>\n",
       "      <td>16598.000000</td>\n",
       "      <td>16598.000000</td>\n",
       "    </tr>\n",
       "    <tr>\n",
       "      <th>mean</th>\n",
       "      <td>8300.605254</td>\n",
       "      <td>2006.406443</td>\n",
       "      <td>0.264667</td>\n",
       "      <td>0.146652</td>\n",
       "      <td>0.077782</td>\n",
       "      <td>0.048063</td>\n",
       "      <td>0.537441</td>\n",
       "    </tr>\n",
       "    <tr>\n",
       "      <th>std</th>\n",
       "      <td>4791.853933</td>\n",
       "      <td>5.828981</td>\n",
       "      <td>0.816683</td>\n",
       "      <td>0.505351</td>\n",
       "      <td>0.309291</td>\n",
       "      <td>0.188588</td>\n",
       "      <td>1.555028</td>\n",
       "    </tr>\n",
       "    <tr>\n",
       "      <th>min</th>\n",
       "      <td>1.000000</td>\n",
       "      <td>1980.000000</td>\n",
       "      <td>0.000000</td>\n",
       "      <td>0.000000</td>\n",
       "      <td>0.000000</td>\n",
       "      <td>0.000000</td>\n",
       "      <td>0.010000</td>\n",
       "    </tr>\n",
       "    <tr>\n",
       "      <th>25%</th>\n",
       "      <td>4151.250000</td>\n",
       "      <td>2003.000000</td>\n",
       "      <td>0.000000</td>\n",
       "      <td>0.000000</td>\n",
       "      <td>0.000000</td>\n",
       "      <td>0.000000</td>\n",
       "      <td>0.060000</td>\n",
       "    </tr>\n",
       "    <tr>\n",
       "      <th>50%</th>\n",
       "      <td>8300.500000</td>\n",
       "      <td>2007.000000</td>\n",
       "      <td>0.080000</td>\n",
       "      <td>0.020000</td>\n",
       "      <td>0.000000</td>\n",
       "      <td>0.010000</td>\n",
       "      <td>0.170000</td>\n",
       "    </tr>\n",
       "    <tr>\n",
       "      <th>75%</th>\n",
       "      <td>12449.750000</td>\n",
       "      <td>2010.000000</td>\n",
       "      <td>0.240000</td>\n",
       "      <td>0.110000</td>\n",
       "      <td>0.040000</td>\n",
       "      <td>0.040000</td>\n",
       "      <td>0.470000</td>\n",
       "    </tr>\n",
       "    <tr>\n",
       "      <th>max</th>\n",
       "      <td>16600.000000</td>\n",
       "      <td>2020.000000</td>\n",
       "      <td>41.490000</td>\n",
       "      <td>29.020000</td>\n",
       "      <td>10.220000</td>\n",
       "      <td>10.570000</td>\n",
       "      <td>82.740000</td>\n",
       "    </tr>\n",
       "  </tbody>\n",
       "</table>\n",
       "</div>"
      ],
      "text/plain": [
       "               Rank          Year      NA_Sales      EU_Sales      JP_Sales  \\\n",
       "count  16598.000000  16327.000000  16598.000000  16598.000000  16598.000000   \n",
       "mean    8300.605254   2006.406443      0.264667      0.146652      0.077782   \n",
       "std     4791.853933      5.828981      0.816683      0.505351      0.309291   \n",
       "min        1.000000   1980.000000      0.000000      0.000000      0.000000   \n",
       "25%     4151.250000   2003.000000      0.000000      0.000000      0.000000   \n",
       "50%     8300.500000   2007.000000      0.080000      0.020000      0.000000   \n",
       "75%    12449.750000   2010.000000      0.240000      0.110000      0.040000   \n",
       "max    16600.000000   2020.000000     41.490000     29.020000     10.220000   \n",
       "\n",
       "        Other_Sales  Global_Sales  \n",
       "count  16598.000000  16598.000000  \n",
       "mean       0.048063      0.537441  \n",
       "std        0.188588      1.555028  \n",
       "min        0.000000      0.010000  \n",
       "25%        0.000000      0.060000  \n",
       "50%        0.010000      0.170000  \n",
       "75%        0.040000      0.470000  \n",
       "max       10.570000     82.740000  "
      ]
     },
     "execution_count": 8,
     "metadata": {},
     "output_type": "execute_result"
    }
   ],
   "source": [
    "df.describe() # checking the trend of the numerical data"
   ]
  },
  {
   "cell_type": "code",
   "execution_count": 9,
   "id": "bbe50489-21e7-41ec-84f6-c2d94399657b",
   "metadata": {},
   "outputs": [
    {
     "data": {
      "text/html": [
       "<div>\n",
       "<style scoped>\n",
       "    .dataframe tbody tr th:only-of-type {\n",
       "        vertical-align: middle;\n",
       "    }\n",
       "\n",
       "    .dataframe tbody tr th {\n",
       "        vertical-align: top;\n",
       "    }\n",
       "\n",
       "    .dataframe thead th {\n",
       "        text-align: right;\n",
       "    }\n",
       "</style>\n",
       "<table border=\"1\" class=\"dataframe\">\n",
       "  <thead>\n",
       "    <tr style=\"text-align: right;\">\n",
       "      <th></th>\n",
       "      <th>Name</th>\n",
       "      <th>Platform</th>\n",
       "      <th>Genre</th>\n",
       "      <th>Publisher</th>\n",
       "    </tr>\n",
       "  </thead>\n",
       "  <tbody>\n",
       "    <tr>\n",
       "      <th>count</th>\n",
       "      <td>16598</td>\n",
       "      <td>16598</td>\n",
       "      <td>16598</td>\n",
       "      <td>16540</td>\n",
       "    </tr>\n",
       "    <tr>\n",
       "      <th>unique</th>\n",
       "      <td>11493</td>\n",
       "      <td>31</td>\n",
       "      <td>12</td>\n",
       "      <td>578</td>\n",
       "    </tr>\n",
       "    <tr>\n",
       "      <th>top</th>\n",
       "      <td>Need for Speed: Most Wanted</td>\n",
       "      <td>DS</td>\n",
       "      <td>Action</td>\n",
       "      <td>Electronic Arts</td>\n",
       "    </tr>\n",
       "    <tr>\n",
       "      <th>freq</th>\n",
       "      <td>12</td>\n",
       "      <td>2163</td>\n",
       "      <td>3316</td>\n",
       "      <td>1351</td>\n",
       "    </tr>\n",
       "  </tbody>\n",
       "</table>\n",
       "</div>"
      ],
      "text/plain": [
       "                               Name Platform   Genre        Publisher\n",
       "count                         16598    16598   16598            16540\n",
       "unique                        11493       31      12              578\n",
       "top     Need for Speed: Most Wanted       DS  Action  Electronic Arts\n",
       "freq                             12     2163    3316             1351"
      ]
     },
     "execution_count": 9,
     "metadata": {},
     "output_type": "execute_result"
    }
   ],
   "source": [
    "df.describe(include=['object']) # checking the trend of categorical data"
   ]
  },
  {
   "cell_type": "code",
   "execution_count": 10,
   "id": "2fdc431e-468e-4343-b709-72b91bdeb015",
   "metadata": {},
   "outputs": [
    {
     "data": {
      "text/plain": [
       "Rank            16598\n",
       "Name            11493\n",
       "Platform           31\n",
       "Year               39\n",
       "Genre              12\n",
       "Publisher         578\n",
       "NA_Sales          409\n",
       "EU_Sales          305\n",
       "JP_Sales          244\n",
       "Other_Sales       157\n",
       "Global_Sales      623\n",
       "dtype: int64"
      ]
     },
     "execution_count": 10,
     "metadata": {},
     "output_type": "execute_result"
    }
   ],
   "source": [
    "df.nunique() # checking the number of unique values per column"
   ]
  },
  {
   "cell_type": "markdown",
   "id": "46a28a07-1dfe-4706-86a1-d8307b7f8779",
   "metadata": {},
   "source": [
    "# Initial analysis observations\n",
    "\n",
    "### 1.) The dataset is a collection of video game titles that have ranks associated with them along with other information such as platform it was released on, year of release, genre of the game, publisher of the title, North America Sales figures, Europe Sales figures, Japan Sales figures, and Sales figures in other parts along with Global Sales figures.\n",
    "### 2.) There are a total of 16598 rows but the rank at the end is 16600 so will need to check if there is any inconsistency there\n",
    "### 3.) The year is in float64 format so it needs to be typecasted to integer for better analysis capability"
   ]
  },
  {
   "cell_type": "code",
   "execution_count": 11,
   "id": "227f8178-b4b8-44b4-a88b-5de7c32e2f4d",
   "metadata": {},
   "outputs": [
    {
     "data": {
      "text/plain": [
       "0"
      ]
     },
     "execution_count": 11,
     "metadata": {},
     "output_type": "execute_result"
    }
   ],
   "source": [
    "# Checking for duplicates\n",
    "df.duplicated().sum()"
   ]
  },
  {
   "cell_type": "code",
   "execution_count": 12,
   "id": "aa50852c-c45e-4d1a-8ad3-b23a9716336f",
   "metadata": {},
   "outputs": [
    {
     "data": {
      "text/plain": [
       "5105"
      ]
     },
     "execution_count": 12,
     "metadata": {},
     "output_type": "execute_result"
    }
   ],
   "source": [
    "# There seems to be no complete duplicates\n",
    "# checking for duplicates across titles\n",
    "\n",
    "df['Name'].duplicated().sum()"
   ]
  },
  {
   "cell_type": "code",
   "execution_count": 13,
   "id": "5402e86a-4ad9-4b86-a10b-f4836c9594d8",
   "metadata": {},
   "outputs": [
    {
     "data": {
      "text/html": [
       "<div>\n",
       "<style scoped>\n",
       "    .dataframe tbody tr th:only-of-type {\n",
       "        vertical-align: middle;\n",
       "    }\n",
       "\n",
       "    .dataframe tbody tr th {\n",
       "        vertical-align: top;\n",
       "    }\n",
       "\n",
       "    .dataframe thead th {\n",
       "        text-align: right;\n",
       "    }\n",
       "</style>\n",
       "<table border=\"1\" class=\"dataframe\">\n",
       "  <thead>\n",
       "    <tr style=\"text-align: right;\">\n",
       "      <th></th>\n",
       "      <th>Rank</th>\n",
       "      <th>Name</th>\n",
       "      <th>Platform</th>\n",
       "      <th>Year</th>\n",
       "      <th>Genre</th>\n",
       "      <th>Publisher</th>\n",
       "      <th>NA_Sales</th>\n",
       "      <th>EU_Sales</th>\n",
       "      <th>JP_Sales</th>\n",
       "      <th>Other_Sales</th>\n",
       "      <th>Global_Sales</th>\n",
       "    </tr>\n",
       "  </thead>\n",
       "  <tbody>\n",
       "    <tr>\n",
       "      <th>3038</th>\n",
       "      <td>3040</td>\n",
       "      <td>007: Quantum of Solace</td>\n",
       "      <td>Wii</td>\n",
       "      <td>2008.0</td>\n",
       "      <td>Action</td>\n",
       "      <td>Activision</td>\n",
       "      <td>0.30</td>\n",
       "      <td>0.29</td>\n",
       "      <td>0.01</td>\n",
       "      <td>0.07</td>\n",
       "      <td>0.67</td>\n",
       "    </tr>\n",
       "    <tr>\n",
       "      <th>1739</th>\n",
       "      <td>1741</td>\n",
       "      <td>007: Quantum of Solace</td>\n",
       "      <td>PS3</td>\n",
       "      <td>2008.0</td>\n",
       "      <td>Action</td>\n",
       "      <td>Activision</td>\n",
       "      <td>0.43</td>\n",
       "      <td>0.52</td>\n",
       "      <td>0.02</td>\n",
       "      <td>0.20</td>\n",
       "      <td>1.16</td>\n",
       "    </tr>\n",
       "    <tr>\n",
       "      <th>4499</th>\n",
       "      <td>4501</td>\n",
       "      <td>007: Quantum of Solace</td>\n",
       "      <td>PS2</td>\n",
       "      <td>2008.0</td>\n",
       "      <td>Action</td>\n",
       "      <td>Activision</td>\n",
       "      <td>0.17</td>\n",
       "      <td>0.00</td>\n",
       "      <td>0.00</td>\n",
       "      <td>0.26</td>\n",
       "      <td>0.43</td>\n",
       "    </tr>\n",
       "    <tr>\n",
       "      <th>9318</th>\n",
       "      <td>9320</td>\n",
       "      <td>007: Quantum of Solace</td>\n",
       "      <td>DS</td>\n",
       "      <td>2008.0</td>\n",
       "      <td>Action</td>\n",
       "      <td>Activision</td>\n",
       "      <td>0.11</td>\n",
       "      <td>0.01</td>\n",
       "      <td>0.00</td>\n",
       "      <td>0.01</td>\n",
       "      <td>0.14</td>\n",
       "    </tr>\n",
       "    <tr>\n",
       "      <th>14547</th>\n",
       "      <td>14550</td>\n",
       "      <td>007: Quantum of Solace</td>\n",
       "      <td>PC</td>\n",
       "      <td>2008.0</td>\n",
       "      <td>Action</td>\n",
       "      <td>Activision</td>\n",
       "      <td>0.01</td>\n",
       "      <td>0.01</td>\n",
       "      <td>0.00</td>\n",
       "      <td>0.00</td>\n",
       "      <td>0.03</td>\n",
       "    </tr>\n",
       "    <tr>\n",
       "      <th>...</th>\n",
       "      <td>...</td>\n",
       "      <td>...</td>\n",
       "      <td>...</td>\n",
       "      <td>...</td>\n",
       "      <td>...</td>\n",
       "      <td>...</td>\n",
       "      <td>...</td>\n",
       "      <td>...</td>\n",
       "      <td>...</td>\n",
       "      <td>...</td>\n",
       "      <td>...</td>\n",
       "    </tr>\n",
       "    <tr>\n",
       "      <th>3303</th>\n",
       "      <td>3305</td>\n",
       "      <td>pro evolution soccer 2011</td>\n",
       "      <td>X360</td>\n",
       "      <td>2010.0</td>\n",
       "      <td>Sports</td>\n",
       "      <td>Konami Digital Entertainment</td>\n",
       "      <td>0.09</td>\n",
       "      <td>0.44</td>\n",
       "      <td>0.00</td>\n",
       "      <td>0.07</td>\n",
       "      <td>0.61</td>\n",
       "    </tr>\n",
       "    <tr>\n",
       "      <th>2595</th>\n",
       "      <td>2597</td>\n",
       "      <td>pro evolution soccer 2011</td>\n",
       "      <td>PSP</td>\n",
       "      <td>2010.0</td>\n",
       "      <td>Sports</td>\n",
       "      <td>Konami Digital Entertainment</td>\n",
       "      <td>0.05</td>\n",
       "      <td>0.30</td>\n",
       "      <td>0.29</td>\n",
       "      <td>0.16</td>\n",
       "      <td>0.79</td>\n",
       "    </tr>\n",
       "    <tr>\n",
       "      <th>12605</th>\n",
       "      <td>12607</td>\n",
       "      <td>pro evolution soccer 2011</td>\n",
       "      <td>PC</td>\n",
       "      <td>2010.0</td>\n",
       "      <td>Sports</td>\n",
       "      <td>Konami Digital Entertainment</td>\n",
       "      <td>0.00</td>\n",
       "      <td>0.05</td>\n",
       "      <td>0.00</td>\n",
       "      <td>0.01</td>\n",
       "      <td>0.06</td>\n",
       "    </tr>\n",
       "    <tr>\n",
       "      <th>7088</th>\n",
       "      <td>7090</td>\n",
       "      <td>pro evolution soccer 2011</td>\n",
       "      <td>Wii</td>\n",
       "      <td>2010.0</td>\n",
       "      <td>Sports</td>\n",
       "      <td>Konami Digital Entertainment</td>\n",
       "      <td>0.08</td>\n",
       "      <td>0.10</td>\n",
       "      <td>0.03</td>\n",
       "      <td>0.02</td>\n",
       "      <td>0.23</td>\n",
       "    </tr>\n",
       "    <tr>\n",
       "      <th>15523</th>\n",
       "      <td>15526</td>\n",
       "      <td>uDraw Studio: Instant Artist</td>\n",
       "      <td>X360</td>\n",
       "      <td>2011.0</td>\n",
       "      <td>Misc</td>\n",
       "      <td>THQ</td>\n",
       "      <td>0.01</td>\n",
       "      <td>0.01</td>\n",
       "      <td>0.00</td>\n",
       "      <td>0.00</td>\n",
       "      <td>0.02</td>\n",
       "    </tr>\n",
       "  </tbody>\n",
       "</table>\n",
       "<p>5105 rows × 11 columns</p>\n",
       "</div>"
      ],
      "text/plain": [
       "        Rank                          Name Platform    Year   Genre  \\\n",
       "3038    3040        007: Quantum of Solace      Wii  2008.0  Action   \n",
       "1739    1741        007: Quantum of Solace      PS3  2008.0  Action   \n",
       "4499    4501        007: Quantum of Solace      PS2  2008.0  Action   \n",
       "9318    9320        007: Quantum of Solace       DS  2008.0  Action   \n",
       "14547  14550        007: Quantum of Solace       PC  2008.0  Action   \n",
       "...      ...                           ...      ...     ...     ...   \n",
       "3303    3305     pro evolution soccer 2011     X360  2010.0  Sports   \n",
       "2595    2597     pro evolution soccer 2011      PSP  2010.0  Sports   \n",
       "12605  12607     pro evolution soccer 2011       PC  2010.0  Sports   \n",
       "7088    7090     pro evolution soccer 2011      Wii  2010.0  Sports   \n",
       "15523  15526  uDraw Studio: Instant Artist     X360  2011.0    Misc   \n",
       "\n",
       "                          Publisher  NA_Sales  EU_Sales  JP_Sales  \\\n",
       "3038                     Activision      0.30      0.29      0.01   \n",
       "1739                     Activision      0.43      0.52      0.02   \n",
       "4499                     Activision      0.17      0.00      0.00   \n",
       "9318                     Activision      0.11      0.01      0.00   \n",
       "14547                    Activision      0.01      0.01      0.00   \n",
       "...                             ...       ...       ...       ...   \n",
       "3303   Konami Digital Entertainment      0.09      0.44      0.00   \n",
       "2595   Konami Digital Entertainment      0.05      0.30      0.29   \n",
       "12605  Konami Digital Entertainment      0.00      0.05      0.00   \n",
       "7088   Konami Digital Entertainment      0.08      0.10      0.03   \n",
       "15523                           THQ      0.01      0.01      0.00   \n",
       "\n",
       "       Other_Sales  Global_Sales  \n",
       "3038          0.07          0.67  \n",
       "1739          0.20          1.16  \n",
       "4499          0.26          0.43  \n",
       "9318          0.01          0.14  \n",
       "14547         0.00          0.03  \n",
       "...            ...           ...  \n",
       "3303          0.07          0.61  \n",
       "2595          0.16          0.79  \n",
       "12605         0.01          0.06  \n",
       "7088          0.02          0.23  \n",
       "15523         0.00          0.02  \n",
       "\n",
       "[5105 rows x 11 columns]"
      ]
     },
     "execution_count": 13,
     "metadata": {},
     "output_type": "execute_result"
    }
   ],
   "source": [
    "# There seems to be 5105 titles that are duplicated\n",
    "# Taking a look at the duplicated titles\n",
    "\n",
    "df[df['Name'].duplicated()].sort_values(by='Name')"
   ]
  },
  {
   "cell_type": "code",
   "execution_count": 14,
   "id": "6b2ca021-e4c7-4f33-a4d8-71b951dd8ad2",
   "metadata": {},
   "outputs": [
    {
     "data": {
      "text/html": [
       "<div>\n",
       "<style scoped>\n",
       "    .dataframe tbody tr th:only-of-type {\n",
       "        vertical-align: middle;\n",
       "    }\n",
       "\n",
       "    .dataframe tbody tr th {\n",
       "        vertical-align: top;\n",
       "    }\n",
       "\n",
       "    .dataframe thead th {\n",
       "        text-align: right;\n",
       "    }\n",
       "</style>\n",
       "<table border=\"1\" class=\"dataframe\">\n",
       "  <thead>\n",
       "    <tr style=\"text-align: right;\">\n",
       "      <th></th>\n",
       "      <th>Rank</th>\n",
       "      <th>Name</th>\n",
       "      <th>Platform</th>\n",
       "      <th>Year</th>\n",
       "      <th>Genre</th>\n",
       "      <th>Publisher</th>\n",
       "      <th>NA_Sales</th>\n",
       "      <th>EU_Sales</th>\n",
       "      <th>JP_Sales</th>\n",
       "      <th>Other_Sales</th>\n",
       "      <th>Global_Sales</th>\n",
       "    </tr>\n",
       "  </thead>\n",
       "  <tbody>\n",
       "    <tr>\n",
       "      <th>14999</th>\n",
       "      <td>15002</td>\n",
       "      <td>Wii de Asobu: Metroid Prime</td>\n",
       "      <td>Wii</td>\n",
       "      <td>NaN</td>\n",
       "      <td>Shooter</td>\n",
       "      <td>Nintendo</td>\n",
       "      <td>0.0</td>\n",
       "      <td>0.00</td>\n",
       "      <td>0.02</td>\n",
       "      <td>0.0</td>\n",
       "      <td>0.02</td>\n",
       "    </tr>\n",
       "    <tr>\n",
       "      <th>16127</th>\n",
       "      <td>16130</td>\n",
       "      <td>Madden NFL 13</td>\n",
       "      <td>PS3</td>\n",
       "      <td>2012.0</td>\n",
       "      <td>Sports</td>\n",
       "      <td>Electronic Arts</td>\n",
       "      <td>0.0</td>\n",
       "      <td>0.01</td>\n",
       "      <td>0.00</td>\n",
       "      <td>0.0</td>\n",
       "      <td>0.01</td>\n",
       "    </tr>\n",
       "  </tbody>\n",
       "</table>\n",
       "</div>"
      ],
      "text/plain": [
       "        Rank                         Name Platform    Year    Genre  \\\n",
       "14999  15002  Wii de Asobu: Metroid Prime      Wii     NaN  Shooter   \n",
       "16127  16130                Madden NFL 13      PS3  2012.0   Sports   \n",
       "\n",
       "             Publisher  NA_Sales  EU_Sales  JP_Sales  Other_Sales  \\\n",
       "14999         Nintendo       0.0      0.00      0.02          0.0   \n",
       "16127  Electronic Arts       0.0      0.01      0.00          0.0   \n",
       "\n",
       "       Global_Sales  \n",
       "14999          0.02  \n",
       "16127          0.01  "
      ]
     },
     "execution_count": 14,
     "metadata": {},
     "output_type": "execute_result"
    }
   ],
   "source": [
    "# Many duplicates seem to be of re-releases or releases on different platforms\n",
    "# Checking for duplicates across these two specific columns along with years\n",
    "\n",
    "df[df[['Name','Platform','Year']].duplicated()]"
   ]
  },
  {
   "cell_type": "code",
   "execution_count": 15,
   "id": "fbd84df8-5608-48ea-bdd1-0780785659ca",
   "metadata": {},
   "outputs": [
    {
     "data": {
      "text/html": [
       "<div>\n",
       "<style scoped>\n",
       "    .dataframe tbody tr th:only-of-type {\n",
       "        vertical-align: middle;\n",
       "    }\n",
       "\n",
       "    .dataframe tbody tr th {\n",
       "        vertical-align: top;\n",
       "    }\n",
       "\n",
       "    .dataframe thead th {\n",
       "        text-align: right;\n",
       "    }\n",
       "</style>\n",
       "<table border=\"1\" class=\"dataframe\">\n",
       "  <thead>\n",
       "    <tr style=\"text-align: right;\">\n",
       "      <th></th>\n",
       "      <th>Rank</th>\n",
       "      <th>Name</th>\n",
       "      <th>Platform</th>\n",
       "      <th>Year</th>\n",
       "      <th>Genre</th>\n",
       "      <th>Publisher</th>\n",
       "      <th>NA_Sales</th>\n",
       "      <th>EU_Sales</th>\n",
       "      <th>JP_Sales</th>\n",
       "      <th>Other_Sales</th>\n",
       "      <th>Global_Sales</th>\n",
       "    </tr>\n",
       "  </thead>\n",
       "  <tbody>\n",
       "    <tr>\n",
       "      <th>603</th>\n",
       "      <td>604</td>\n",
       "      <td>Madden NFL 13</td>\n",
       "      <td>PS3</td>\n",
       "      <td>2012.0</td>\n",
       "      <td>Sports</td>\n",
       "      <td>Electronic Arts</td>\n",
       "      <td>2.11</td>\n",
       "      <td>0.23</td>\n",
       "      <td>0.0</td>\n",
       "      <td>0.22</td>\n",
       "      <td>2.56</td>\n",
       "    </tr>\n",
       "    <tr>\n",
       "      <th>16127</th>\n",
       "      <td>16130</td>\n",
       "      <td>Madden NFL 13</td>\n",
       "      <td>PS3</td>\n",
       "      <td>2012.0</td>\n",
       "      <td>Sports</td>\n",
       "      <td>Electronic Arts</td>\n",
       "      <td>0.00</td>\n",
       "      <td>0.01</td>\n",
       "      <td>0.0</td>\n",
       "      <td>0.00</td>\n",
       "      <td>0.01</td>\n",
       "    </tr>\n",
       "  </tbody>\n",
       "</table>\n",
       "</div>"
      ],
      "text/plain": [
       "        Rank           Name Platform    Year   Genre        Publisher  \\\n",
       "603      604  Madden NFL 13      PS3  2012.0  Sports  Electronic Arts   \n",
       "16127  16130  Madden NFL 13      PS3  2012.0  Sports  Electronic Arts   \n",
       "\n",
       "       NA_Sales  EU_Sales  JP_Sales  Other_Sales  Global_Sales  \n",
       "603        2.11      0.23       0.0         0.22          2.56  \n",
       "16127      0.00      0.01       0.0         0.00          0.01  "
      ]
     },
     "execution_count": 15,
     "metadata": {},
     "output_type": "execute_result"
    }
   ],
   "source": [
    "# The above two titles seem to be duplicates as they have the same ba\n",
    "\n",
    "# For the game Madden NFL 13 on PS3 it seems to have the same values apart from sales numbers\n",
    "df[(df['Name'] == 'Madden NFL 13') & (df['Platform'] == 'PS3')]"
   ]
  },
  {
   "cell_type": "code",
   "execution_count": 16,
   "id": "1f8bc708-e0a4-47f8-be03-cd83ecb3313e",
   "metadata": {},
   "outputs": [
    {
     "data": {
      "text/html": [
       "<div>\n",
       "<style scoped>\n",
       "    .dataframe tbody tr th:only-of-type {\n",
       "        vertical-align: middle;\n",
       "    }\n",
       "\n",
       "    .dataframe tbody tr th {\n",
       "        vertical-align: top;\n",
       "    }\n",
       "\n",
       "    .dataframe thead th {\n",
       "        text-align: right;\n",
       "    }\n",
       "</style>\n",
       "<table border=\"1\" class=\"dataframe\">\n",
       "  <thead>\n",
       "    <tr style=\"text-align: right;\">\n",
       "      <th></th>\n",
       "      <th>Rank</th>\n",
       "      <th>Name</th>\n",
       "      <th>Platform</th>\n",
       "      <th>Year</th>\n",
       "      <th>Genre</th>\n",
       "      <th>Publisher</th>\n",
       "      <th>NA_Sales</th>\n",
       "      <th>EU_Sales</th>\n",
       "      <th>JP_Sales</th>\n",
       "      <th>Other_Sales</th>\n",
       "      <th>Global_Sales</th>\n",
       "    </tr>\n",
       "  </thead>\n",
       "  <tbody>\n",
       "    <tr>\n",
       "      <th>14997</th>\n",
       "      <td>15000</td>\n",
       "      <td>Wii de Asobu: Metroid Prime</td>\n",
       "      <td>Wii</td>\n",
       "      <td>NaN</td>\n",
       "      <td>Shooter</td>\n",
       "      <td>Nintendo</td>\n",
       "      <td>0.0</td>\n",
       "      <td>0.0</td>\n",
       "      <td>0.02</td>\n",
       "      <td>0.0</td>\n",
       "      <td>0.02</td>\n",
       "    </tr>\n",
       "    <tr>\n",
       "      <th>14999</th>\n",
       "      <td>15002</td>\n",
       "      <td>Wii de Asobu: Metroid Prime</td>\n",
       "      <td>Wii</td>\n",
       "      <td>NaN</td>\n",
       "      <td>Shooter</td>\n",
       "      <td>Nintendo</td>\n",
       "      <td>0.0</td>\n",
       "      <td>0.0</td>\n",
       "      <td>0.02</td>\n",
       "      <td>0.0</td>\n",
       "      <td>0.02</td>\n",
       "    </tr>\n",
       "  </tbody>\n",
       "</table>\n",
       "</div>"
      ],
      "text/plain": [
       "        Rank                         Name Platform  Year    Genre Publisher  \\\n",
       "14997  15000  Wii de Asobu: Metroid Prime      Wii   NaN  Shooter  Nintendo   \n",
       "14999  15002  Wii de Asobu: Metroid Prime      Wii   NaN  Shooter  Nintendo   \n",
       "\n",
       "       NA_Sales  EU_Sales  JP_Sales  Other_Sales  Global_Sales  \n",
       "14997       0.0       0.0      0.02          0.0          0.02  \n",
       "14999       0.0       0.0      0.02          0.0          0.02  "
      ]
     },
     "execution_count": 16,
     "metadata": {},
     "output_type": "execute_result"
    }
   ],
   "source": [
    "# For the game Wii de Asobu: Metroid Prime on Wii Seems to be complete duplicates apart from rank\n",
    "df[(df['Name'] == 'Wii de Asobu: Metroid Prime') & (df['Platform'] == 'Wii')]"
   ]
  },
  {
   "cell_type": "code",
   "execution_count": 17,
   "id": "ccd8d4df-f946-4683-8083-6fe8a1d25aff",
   "metadata": {},
   "outputs": [],
   "source": [
    "# Dropping Wii de Asobu: Metroid Prime on Wii and Madden NFL 13 on PS3 as they are the same game\n",
    "df.drop_duplicates(subset=['Name','Platform','Year'],keep='first',inplace=True,ignore_index=True)"
   ]
  },
  {
   "cell_type": "code",
   "execution_count": 18,
   "id": "fb6feb44-a3c0-460b-b811-a80ff385f522",
   "metadata": {},
   "outputs": [
    {
     "data": {
      "text/html": [
       "<div>\n",
       "<style scoped>\n",
       "    .dataframe tbody tr th:only-of-type {\n",
       "        vertical-align: middle;\n",
       "    }\n",
       "\n",
       "    .dataframe tbody tr th {\n",
       "        vertical-align: top;\n",
       "    }\n",
       "\n",
       "    .dataframe thead th {\n",
       "        text-align: right;\n",
       "    }\n",
       "</style>\n",
       "<table border=\"1\" class=\"dataframe\">\n",
       "  <thead>\n",
       "    <tr style=\"text-align: right;\">\n",
       "      <th></th>\n",
       "      <th>Rank</th>\n",
       "      <th>Name</th>\n",
       "      <th>Platform</th>\n",
       "      <th>Year</th>\n",
       "      <th>Genre</th>\n",
       "      <th>Publisher</th>\n",
       "      <th>NA_Sales</th>\n",
       "      <th>EU_Sales</th>\n",
       "      <th>JP_Sales</th>\n",
       "      <th>Other_Sales</th>\n",
       "      <th>Global_Sales</th>\n",
       "    </tr>\n",
       "  </thead>\n",
       "  <tbody>\n",
       "    <tr>\n",
       "      <th>1530</th>\n",
       "      <td>1532</td>\n",
       "      <td>Need for Speed: Most Wanted</td>\n",
       "      <td>X360</td>\n",
       "      <td>2005.0</td>\n",
       "      <td>Racing</td>\n",
       "      <td>Electronic Arts</td>\n",
       "      <td>1.0</td>\n",
       "      <td>0.17</td>\n",
       "      <td>0.02</td>\n",
       "      <td>0.10</td>\n",
       "      <td>1.29</td>\n",
       "    </tr>\n",
       "    <tr>\n",
       "      <th>4145</th>\n",
       "      <td>4147</td>\n",
       "      <td>Sonic the Hedgehog</td>\n",
       "      <td>PS3</td>\n",
       "      <td>NaN</td>\n",
       "      <td>Platform</td>\n",
       "      <td>NaN</td>\n",
       "      <td>0.0</td>\n",
       "      <td>0.48</td>\n",
       "      <td>0.00</td>\n",
       "      <td>0.00</td>\n",
       "      <td>0.48</td>\n",
       "    </tr>\n",
       "    <tr>\n",
       "      <th>11676</th>\n",
       "      <td>11678</td>\n",
       "      <td>Need for Speed: Most Wanted</td>\n",
       "      <td>PC</td>\n",
       "      <td>2012.0</td>\n",
       "      <td>Racing</td>\n",
       "      <td>Electronic Arts</td>\n",
       "      <td>0.0</td>\n",
       "      <td>0.06</td>\n",
       "      <td>0.00</td>\n",
       "      <td>0.02</td>\n",
       "      <td>0.08</td>\n",
       "    </tr>\n",
       "  </tbody>\n",
       "</table>\n",
       "</div>"
      ],
      "text/plain": [
       "        Rank                         Name Platform    Year     Genre  \\\n",
       "1530    1532  Need for Speed: Most Wanted     X360  2005.0    Racing   \n",
       "4145    4147           Sonic the Hedgehog      PS3     NaN  Platform   \n",
       "11676  11678  Need for Speed: Most Wanted       PC  2012.0    Racing   \n",
       "\n",
       "             Publisher  NA_Sales  EU_Sales  JP_Sales  Other_Sales  \\\n",
       "1530   Electronic Arts       1.0      0.17      0.02         0.10   \n",
       "4145               NaN       0.0      0.48      0.00         0.00   \n",
       "11676  Electronic Arts       0.0      0.06      0.00         0.02   \n",
       "\n",
       "       Global_Sales  \n",
       "1530           1.29  \n",
       "4145           0.48  \n",
       "11676          0.08  "
      ]
     },
     "execution_count": 18,
     "metadata": {},
     "output_type": "execute_result"
    }
   ],
   "source": [
    "# Drop was successful\n",
    "# Now to address the others\n",
    "df[df.duplicated(subset=['Name','Platform'])]"
   ]
  },
  {
   "cell_type": "code",
   "execution_count": 19,
   "id": "1ff9a1ff-d5e9-4378-a003-58129dc4ceed",
   "metadata": {},
   "outputs": [
    {
     "data": {
      "text/html": [
       "<div>\n",
       "<style scoped>\n",
       "    .dataframe tbody tr th:only-of-type {\n",
       "        vertical-align: middle;\n",
       "    }\n",
       "\n",
       "    .dataframe tbody tr th {\n",
       "        vertical-align: top;\n",
       "    }\n",
       "\n",
       "    .dataframe thead th {\n",
       "        text-align: right;\n",
       "    }\n",
       "</style>\n",
       "<table border=\"1\" class=\"dataframe\">\n",
       "  <thead>\n",
       "    <tr style=\"text-align: right;\">\n",
       "      <th></th>\n",
       "      <th>Rank</th>\n",
       "      <th>Name</th>\n",
       "      <th>Platform</th>\n",
       "      <th>Year</th>\n",
       "      <th>Genre</th>\n",
       "      <th>Publisher</th>\n",
       "      <th>NA_Sales</th>\n",
       "      <th>EU_Sales</th>\n",
       "      <th>JP_Sales</th>\n",
       "      <th>Other_Sales</th>\n",
       "      <th>Global_Sales</th>\n",
       "    </tr>\n",
       "  </thead>\n",
       "  <tbody>\n",
       "    <tr>\n",
       "      <th>1173</th>\n",
       "      <td>1175</td>\n",
       "      <td>Need for Speed: Most Wanted</td>\n",
       "      <td>X360</td>\n",
       "      <td>2012.0</td>\n",
       "      <td>Racing</td>\n",
       "      <td>Electronic Arts</td>\n",
       "      <td>0.62</td>\n",
       "      <td>0.80</td>\n",
       "      <td>0.01</td>\n",
       "      <td>0.15</td>\n",
       "      <td>1.58</td>\n",
       "    </tr>\n",
       "    <tr>\n",
       "      <th>1530</th>\n",
       "      <td>1532</td>\n",
       "      <td>Need for Speed: Most Wanted</td>\n",
       "      <td>X360</td>\n",
       "      <td>2005.0</td>\n",
       "      <td>Racing</td>\n",
       "      <td>Electronic Arts</td>\n",
       "      <td>1.00</td>\n",
       "      <td>0.17</td>\n",
       "      <td>0.02</td>\n",
       "      <td>0.10</td>\n",
       "      <td>1.29</td>\n",
       "    </tr>\n",
       "  </tbody>\n",
       "</table>\n",
       "</div>"
      ],
      "text/plain": [
       "      Rank                         Name Platform    Year   Genre  \\\n",
       "1173  1175  Need for Speed: Most Wanted     X360  2012.0  Racing   \n",
       "1530  1532  Need for Speed: Most Wanted     X360  2005.0  Racing   \n",
       "\n",
       "            Publisher  NA_Sales  EU_Sales  JP_Sales  Other_Sales  Global_Sales  \n",
       "1173  Electronic Arts      0.62      0.80      0.01         0.15          1.58  \n",
       "1530  Electronic Arts      1.00      0.17      0.02         0.10          1.29  "
      ]
     },
     "execution_count": 19,
     "metadata": {},
     "output_type": "execute_result"
    }
   ],
   "source": [
    "# There seems to be 3 more duplicates\n",
    "# Checking for Need for Speed: Most Wanted on X360\n",
    "df[(df['Name'] == 'Need for Speed: Most Wanted') & (df['Platform'] == 'X360')]"
   ]
  },
  {
   "cell_type": "code",
   "execution_count": 20,
   "id": "7e7f0a13-6a1b-442d-ac07-033c314af391",
   "metadata": {},
   "outputs": [
    {
     "data": {
      "text/html": [
       "<div>\n",
       "<style scoped>\n",
       "    .dataframe tbody tr th:only-of-type {\n",
       "        vertical-align: middle;\n",
       "    }\n",
       "\n",
       "    .dataframe tbody tr th {\n",
       "        vertical-align: top;\n",
       "    }\n",
       "\n",
       "    .dataframe thead th {\n",
       "        text-align: right;\n",
       "    }\n",
       "</style>\n",
       "<table border=\"1\" class=\"dataframe\">\n",
       "  <thead>\n",
       "    <tr style=\"text-align: right;\">\n",
       "      <th></th>\n",
       "      <th>Rank</th>\n",
       "      <th>Name</th>\n",
       "      <th>Platform</th>\n",
       "      <th>Year</th>\n",
       "      <th>Genre</th>\n",
       "      <th>Publisher</th>\n",
       "      <th>NA_Sales</th>\n",
       "      <th>EU_Sales</th>\n",
       "      <th>JP_Sales</th>\n",
       "      <th>Other_Sales</th>\n",
       "      <th>Global_Sales</th>\n",
       "    </tr>\n",
       "  </thead>\n",
       "  <tbody>\n",
       "    <tr>\n",
       "      <th>1715</th>\n",
       "      <td>1717</td>\n",
       "      <td>Sonic the Hedgehog</td>\n",
       "      <td>PS3</td>\n",
       "      <td>2006.0</td>\n",
       "      <td>Platform</td>\n",
       "      <td>Sega</td>\n",
       "      <td>0.41</td>\n",
       "      <td>0.07</td>\n",
       "      <td>0.04</td>\n",
       "      <td>0.66</td>\n",
       "      <td>1.18</td>\n",
       "    </tr>\n",
       "    <tr>\n",
       "      <th>4145</th>\n",
       "      <td>4147</td>\n",
       "      <td>Sonic the Hedgehog</td>\n",
       "      <td>PS3</td>\n",
       "      <td>NaN</td>\n",
       "      <td>Platform</td>\n",
       "      <td>NaN</td>\n",
       "      <td>0.00</td>\n",
       "      <td>0.48</td>\n",
       "      <td>0.00</td>\n",
       "      <td>0.00</td>\n",
       "      <td>0.48</td>\n",
       "    </tr>\n",
       "  </tbody>\n",
       "</table>\n",
       "</div>"
      ],
      "text/plain": [
       "      Rank                Name Platform    Year     Genre Publisher  NA_Sales  \\\n",
       "1715  1717  Sonic the Hedgehog      PS3  2006.0  Platform      Sega      0.41   \n",
       "4145  4147  Sonic the Hedgehog      PS3     NaN  Platform       NaN      0.00   \n",
       "\n",
       "      EU_Sales  JP_Sales  Other_Sales  Global_Sales  \n",
       "1715      0.07      0.04         0.66          1.18  \n",
       "4145      0.48      0.00         0.00          0.48  "
      ]
     },
     "execution_count": 20,
     "metadata": {},
     "output_type": "execute_result"
    }
   ],
   "source": [
    "# Upon research it was found that Need for Speed: Most Wanted was re-released in 2012 on X360 so keepint it as it is\n",
    "# Checking for Sonic the Hedgehog on PS3\n",
    "df[(df['Name'] == 'Sonic the Hedgehog') & (df['Platform'] == 'PS3')]"
   ]
  },
  {
   "cell_type": "code",
   "execution_count": 21,
   "id": "aea60e29-7f59-4afe-834b-cc5fb8fc0418",
   "metadata": {},
   "outputs": [],
   "source": [
    "# It seems Sonic the Hedgehog on PS3 has two entries with the same name and platform\n",
    "# But one has null values for Year and Publisher\n",
    "# This will not be effective for analysis so dropping the entry with the null values\n",
    "df = df[(df['Rank'] != 4147)]"
   ]
  },
  {
   "cell_type": "code",
   "execution_count": 22,
   "id": "3cd68271-c7cd-40ec-8d93-041a3f313771",
   "metadata": {},
   "outputs": [
    {
     "data": {
      "text/html": [
       "<div>\n",
       "<style scoped>\n",
       "    .dataframe tbody tr th:only-of-type {\n",
       "        vertical-align: middle;\n",
       "    }\n",
       "\n",
       "    .dataframe tbody tr th {\n",
       "        vertical-align: top;\n",
       "    }\n",
       "\n",
       "    .dataframe thead th {\n",
       "        text-align: right;\n",
       "    }\n",
       "</style>\n",
       "<table border=\"1\" class=\"dataframe\">\n",
       "  <thead>\n",
       "    <tr style=\"text-align: right;\">\n",
       "      <th></th>\n",
       "      <th>Rank</th>\n",
       "      <th>Name</th>\n",
       "      <th>Platform</th>\n",
       "      <th>Year</th>\n",
       "      <th>Genre</th>\n",
       "      <th>Publisher</th>\n",
       "      <th>NA_Sales</th>\n",
       "      <th>EU_Sales</th>\n",
       "      <th>JP_Sales</th>\n",
       "      <th>Other_Sales</th>\n",
       "      <th>Global_Sales</th>\n",
       "    </tr>\n",
       "  </thead>\n",
       "  <tbody>\n",
       "    <tr>\n",
       "      <th>1715</th>\n",
       "      <td>1717</td>\n",
       "      <td>Sonic the Hedgehog</td>\n",
       "      <td>PS3</td>\n",
       "      <td>2006.0</td>\n",
       "      <td>Platform</td>\n",
       "      <td>Sega</td>\n",
       "      <td>0.41</td>\n",
       "      <td>0.07</td>\n",
       "      <td>0.04</td>\n",
       "      <td>0.66</td>\n",
       "      <td>1.18</td>\n",
       "    </tr>\n",
       "  </tbody>\n",
       "</table>\n",
       "</div>"
      ],
      "text/plain": [
       "      Rank                Name Platform    Year     Genre Publisher  NA_Sales  \\\n",
       "1715  1717  Sonic the Hedgehog      PS3  2006.0  Platform      Sega      0.41   \n",
       "\n",
       "      EU_Sales  JP_Sales  Other_Sales  Global_Sales  \n",
       "1715      0.07      0.04         0.66          1.18  "
      ]
     },
     "execution_count": 22,
     "metadata": {},
     "output_type": "execute_result"
    }
   ],
   "source": [
    "# The duplicated value has been dropped\n",
    "df[(df['Name'] == 'Sonic the Hedgehog') & (df['Platform'] == 'PS3')]"
   ]
  },
  {
   "cell_type": "code",
   "execution_count": 23,
   "id": "904813b9-80d2-4f62-8fa8-0d8461f19853",
   "metadata": {},
   "outputs": [
    {
     "data": {
      "text/html": [
       "<div>\n",
       "<style scoped>\n",
       "    .dataframe tbody tr th:only-of-type {\n",
       "        vertical-align: middle;\n",
       "    }\n",
       "\n",
       "    .dataframe tbody tr th {\n",
       "        vertical-align: top;\n",
       "    }\n",
       "\n",
       "    .dataframe thead th {\n",
       "        text-align: right;\n",
       "    }\n",
       "</style>\n",
       "<table border=\"1\" class=\"dataframe\">\n",
       "  <thead>\n",
       "    <tr style=\"text-align: right;\">\n",
       "      <th></th>\n",
       "      <th>Rank</th>\n",
       "      <th>Name</th>\n",
       "      <th>Platform</th>\n",
       "      <th>Year</th>\n",
       "      <th>Genre</th>\n",
       "      <th>Publisher</th>\n",
       "      <th>NA_Sales</th>\n",
       "      <th>EU_Sales</th>\n",
       "      <th>JP_Sales</th>\n",
       "      <th>Other_Sales</th>\n",
       "      <th>Global_Sales</th>\n",
       "    </tr>\n",
       "  </thead>\n",
       "  <tbody>\n",
       "    <tr>\n",
       "      <th>5900</th>\n",
       "      <td>5902</td>\n",
       "      <td>Need for Speed: Most Wanted</td>\n",
       "      <td>PC</td>\n",
       "      <td>2005.0</td>\n",
       "      <td>Racing</td>\n",
       "      <td>Electronic Arts</td>\n",
       "      <td>0.02</td>\n",
       "      <td>0.23</td>\n",
       "      <td>0.0</td>\n",
       "      <td>0.05</td>\n",
       "      <td>0.30</td>\n",
       "    </tr>\n",
       "    <tr>\n",
       "      <th>11676</th>\n",
       "      <td>11678</td>\n",
       "      <td>Need for Speed: Most Wanted</td>\n",
       "      <td>PC</td>\n",
       "      <td>2012.0</td>\n",
       "      <td>Racing</td>\n",
       "      <td>Electronic Arts</td>\n",
       "      <td>0.00</td>\n",
       "      <td>0.06</td>\n",
       "      <td>0.0</td>\n",
       "      <td>0.02</td>\n",
       "      <td>0.08</td>\n",
       "    </tr>\n",
       "  </tbody>\n",
       "</table>\n",
       "</div>"
      ],
      "text/plain": [
       "        Rank                         Name Platform    Year   Genre  \\\n",
       "5900    5902  Need for Speed: Most Wanted       PC  2005.0  Racing   \n",
       "11676  11678  Need for Speed: Most Wanted       PC  2012.0  Racing   \n",
       "\n",
       "             Publisher  NA_Sales  EU_Sales  JP_Sales  Other_Sales  \\\n",
       "5900   Electronic Arts      0.02      0.23       0.0         0.05   \n",
       "11676  Electronic Arts      0.00      0.06       0.0         0.02   \n",
       "\n",
       "       Global_Sales  \n",
       "5900           0.30  \n",
       "11676          0.08  "
      ]
     },
     "execution_count": 23,
     "metadata": {},
     "output_type": "execute_result"
    }
   ],
   "source": [
    "# Checking for Need for Speed: Most Wanted on PC\n",
    "df[(df['Name'] == 'Need for Speed: Most Wanted') & (df['Platform']=='PC')]"
   ]
  },
  {
   "cell_type": "code",
   "execution_count": 24,
   "id": "5bf3b1fa-03de-42da-a1b1-4c1b7d9a82d1",
   "metadata": {},
   "outputs": [
    {
     "data": {
      "text/plain": [
       "0"
      ]
     },
     "execution_count": 24,
     "metadata": {},
     "output_type": "execute_result"
    }
   ],
   "source": [
    "# Upon research it was found that Need for Speed: Most Wanted was re-released in 2012 on PC so keepint it as it is\n",
    "# Checking for more duplicates based on Rank, Name, Platform and Genre\n",
    "df['Rank'].duplicated().sum()"
   ]
  },
  {
   "cell_type": "code",
   "execution_count": 25,
   "id": "8b5e1a52-2c83-416a-b059-dc3bd7fe6e39",
   "metadata": {},
   "outputs": [
    {
     "data": {
      "text/plain": [
       "0"
      ]
     },
     "execution_count": 25,
     "metadata": {},
     "output_type": "execute_result"
    }
   ],
   "source": [
    "# There are no duplicated Ranks\n",
    "# Checking for the others\n",
    "df[['Name','Platform','Year']].duplicated().sum()"
   ]
  },
  {
   "cell_type": "code",
   "execution_count": 26,
   "id": "95835905-97fd-40cf-875e-f6f3973b1a6f",
   "metadata": {},
   "outputs": [
    {
     "data": {
      "text/plain": [
       "Rank              0\n",
       "Name              0\n",
       "Platform          0\n",
       "Year            269\n",
       "Genre             0\n",
       "Publisher        57\n",
       "NA_Sales          0\n",
       "EU_Sales          0\n",
       "JP_Sales          0\n",
       "Other_Sales       0\n",
       "Global_Sales      0\n",
       "dtype: int64"
      ]
     },
     "execution_count": 26,
     "metadata": {},
     "output_type": "execute_result"
    }
   ],
   "source": [
    "# There are no more True duplicates\n",
    "# The dataset is now clear of duplicates\n",
    "# Now to handle Null values\n",
    "\n",
    "df.isna().sum()"
   ]
  },
  {
   "cell_type": "code",
   "execution_count": 27,
   "id": "1eb214de-86d4-4b6b-be4a-a9674b0d3878",
   "metadata": {},
   "outputs": [
    {
     "data": {
      "text/plain": [
       "Rank            0.000000\n",
       "Name            0.000000\n",
       "Platform        0.000000\n",
       "Year            1.620970\n",
       "Genre           0.000000\n",
       "Publisher       0.343477\n",
       "NA_Sales        0.000000\n",
       "EU_Sales        0.000000\n",
       "JP_Sales        0.000000\n",
       "Other_Sales     0.000000\n",
       "Global_Sales    0.000000\n",
       "dtype: float64"
      ]
     },
     "execution_count": 27,
     "metadata": {},
     "output_type": "execute_result"
    }
   ],
   "source": [
    "# Year seems to have 269 null values\n",
    "# Publisher seems to have 57 non null values\n",
    "# Let us check the percentage\n",
    "df.isna().mean()*100"
   ]
  },
  {
   "cell_type": "code",
   "execution_count": 28,
   "id": "31278318-528a-40c6-8e9a-e41b79077d42",
   "metadata": {},
   "outputs": [],
   "source": [
    "# Since null values are less than 3% across the dataset, removing them\n",
    "df.dropna(subset=['Year','Publisher'],inplace=True)"
   ]
  },
  {
   "cell_type": "code",
   "execution_count": 29,
   "id": "9ee3b709-1cf6-4d5d-b8c6-0f59cf2cc16b",
   "metadata": {},
   "outputs": [
    {
     "data": {
      "text/plain": [
       "Rank            0.0\n",
       "Name            0.0\n",
       "Platform        0.0\n",
       "Year            0.0\n",
       "Genre           0.0\n",
       "Publisher       0.0\n",
       "NA_Sales        0.0\n",
       "EU_Sales        0.0\n",
       "JP_Sales        0.0\n",
       "Other_Sales     0.0\n",
       "Global_Sales    0.0\n",
       "dtype: float64"
      ]
     },
     "execution_count": 29,
     "metadata": {},
     "output_type": "execute_result"
    }
   ],
   "source": [
    "# Checking to see if nulls have been dropped\n",
    "df.isna().mean()*100"
   ]
  },
  {
   "cell_type": "code",
   "execution_count": 30,
   "id": "95adb8b4-9f5b-42e5-a3d0-5aea71503699",
   "metadata": {},
   "outputs": [],
   "source": [
    "# Nulls have been dropped. Confirmed\n",
    "# Converting the year to integer\n",
    "df['Year'] = df['Year'].astype(int)"
   ]
  },
  {
   "cell_type": "code",
   "execution_count": 31,
   "id": "ab50bfee-4de6-476b-aa61-50912dcdaaab",
   "metadata": {},
   "outputs": [
    {
     "name": "stdout",
     "output_type": "stream",
     "text": [
      "<class 'pandas.core.frame.DataFrame'>\n",
      "Index: 16290 entries, 0 to 16595\n",
      "Data columns (total 11 columns):\n",
      " #   Column        Non-Null Count  Dtype  \n",
      "---  ------        --------------  -----  \n",
      " 0   Rank          16290 non-null  int64  \n",
      " 1   Name          16290 non-null  object \n",
      " 2   Platform      16290 non-null  object \n",
      " 3   Year          16290 non-null  int32  \n",
      " 4   Genre         16290 non-null  object \n",
      " 5   Publisher     16290 non-null  object \n",
      " 6   NA_Sales      16290 non-null  float64\n",
      " 7   EU_Sales      16290 non-null  float64\n",
      " 8   JP_Sales      16290 non-null  float64\n",
      " 9   Other_Sales   16290 non-null  float64\n",
      " 10  Global_Sales  16290 non-null  float64\n",
      "dtypes: float64(5), int32(1), int64(1), object(4)\n",
      "memory usage: 1.4+ MB\n"
     ]
    }
   ],
   "source": [
    "# Checking to see confirmation of conversion and further requirement of processing\n",
    "df.info()"
   ]
  },
  {
   "cell_type": "code",
   "execution_count": 32,
   "id": "f39f6d59-15a4-4279-b995-aff627b05c67",
   "metadata": {},
   "outputs": [],
   "source": [
    "# Rank, NA_Sales, EU_Sales, JP_Salesm, Others_Sales and Global_Sales seem to be in 64 bit format, which is not necessary as it takes up unnecessary space\n",
    "# Convering them to their 32 bit formats\n",
    "\n",
    "df['Rank'] = df['Rank'].astype(int)"
   ]
  },
  {
   "cell_type": "code",
   "execution_count": 33,
   "id": "b6380fd4-f234-4168-af8c-4b5984043d5b",
   "metadata": {},
   "outputs": [],
   "source": [
    "df[['NA_Sales', 'EU_Sales', 'JP_Sales', 'Other_Sales', 'Global_Sales']] = df[['NA_Sales', 'EU_Sales', 'JP_Sales', 'Other_Sales', 'Global_Sales']].astype('float32')"
   ]
  },
  {
   "cell_type": "code",
   "execution_count": 34,
   "id": "799b4e4e-24a9-437d-988d-b98173ae0cb5",
   "metadata": {},
   "outputs": [
    {
     "data": {
      "text/plain": [
       "array(['Wii', 'NES', 'GB', 'DS', 'X360', 'PS3', 'PS2', 'SNES', 'GBA',\n",
       "       '3DS', 'PS4', 'N64', 'PS', 'XB', 'PC', '2600', 'PSP', 'XOne', 'GC',\n",
       "       'WiiU', 'GEN', 'DC', 'PSV', 'SAT', 'SCD', 'WS', 'NG', 'TG16',\n",
       "       '3DO', 'GG', 'PCFX'], dtype=object)"
      ]
     },
     "execution_count": 34,
     "metadata": {},
     "output_type": "execute_result"
    }
   ],
   "source": [
    "# Checking for redundancy in Platform column\n",
    "df['Platform'].unique()"
   ]
  },
  {
   "cell_type": "code",
   "execution_count": 35,
   "id": "81cb5369-f389-4c15-a8af-193e03c42fef",
   "metadata": {},
   "outputs": [],
   "source": [
    "# Although there is no redundancy\n",
    "#Making a new column named Platform_clean to store platform names in a format that is readable and understandable by all\n",
    "platform_names = {\n",
    "    'Wii': 'Nintendo Wii',\n",
    "    'NES': 'Nintendo Entertainment System',\n",
    "    'GB': 'Game Boy',\n",
    "    'DS': 'Nintendo DS',\n",
    "    'X360': 'Xbox 360',\n",
    "    'PS3': 'PlayStation 3',\n",
    "    'PS2': 'PlayStation 2',\n",
    "    'SNES': 'Super Nintendo',\n",
    "    'GBA': 'Game Boy Advance',\n",
    "    '3DS': 'Nintendo 3DS',\n",
    "    'PS4': 'PlayStation 4',\n",
    "    'N64': 'Nintendo 64',\n",
    "    'PS': 'PlayStation 1',\n",
    "    'XB': 'Original Xbox',\n",
    "    'PC': 'PC',\n",
    "    '2600': 'Atari 2600',\n",
    "    'PSP': 'PlayStation Portable',\n",
    "    'XOne': 'Xbox One',\n",
    "    'GC': 'Nintendo GameCube',\n",
    "    'WiiU': 'Nintendo Wii U',\n",
    "    'GEN': 'Sega Genesis',\n",
    "    'DC': 'Dreamcast',\n",
    "    'PSV': 'PlayStation Vita',\n",
    "    'SAT': 'Sega Saturn',\n",
    "    'SCD': 'Sega CD',\n",
    "    'WS': 'WonderSwan',\n",
    "    'NG': 'Neo Geo',\n",
    "    'TG16': 'TurboGrafx-16',\n",
    "    '3DO': '3DO Interactive',\n",
    "    'GG': 'Game Gear',\n",
    "    'PCFX': 'PC-FX'\n",
    "}\n",
    "df['Platform_clean'] = df['Platform'].map(platform_names)"
   ]
  },
  {
   "cell_type": "code",
   "execution_count": 36,
   "id": "8f79e2ff-41c1-4136-bc6f-dd60c81af71a",
   "metadata": {},
   "outputs": [
    {
     "data": {
      "text/html": [
       "<div>\n",
       "<style scoped>\n",
       "    .dataframe tbody tr th:only-of-type {\n",
       "        vertical-align: middle;\n",
       "    }\n",
       "\n",
       "    .dataframe tbody tr th {\n",
       "        vertical-align: top;\n",
       "    }\n",
       "\n",
       "    .dataframe thead th {\n",
       "        text-align: right;\n",
       "    }\n",
       "</style>\n",
       "<table border=\"1\" class=\"dataframe\">\n",
       "  <thead>\n",
       "    <tr style=\"text-align: right;\">\n",
       "      <th></th>\n",
       "      <th>Rank</th>\n",
       "      <th>Name</th>\n",
       "      <th>Platform</th>\n",
       "      <th>Year</th>\n",
       "      <th>Genre</th>\n",
       "      <th>Publisher</th>\n",
       "      <th>NA_Sales</th>\n",
       "      <th>EU_Sales</th>\n",
       "      <th>JP_Sales</th>\n",
       "      <th>Other_Sales</th>\n",
       "      <th>Global_Sales</th>\n",
       "      <th>Platform_clean</th>\n",
       "    </tr>\n",
       "  </thead>\n",
       "  <tbody>\n",
       "    <tr>\n",
       "      <th>0</th>\n",
       "      <td>1</td>\n",
       "      <td>Wii Sports</td>\n",
       "      <td>Wii</td>\n",
       "      <td>2006</td>\n",
       "      <td>Sports</td>\n",
       "      <td>Nintendo</td>\n",
       "      <td>41.490002</td>\n",
       "      <td>29.02</td>\n",
       "      <td>3.77</td>\n",
       "      <td>8.46</td>\n",
       "      <td>82.739998</td>\n",
       "      <td>Nintendo Wii</td>\n",
       "    </tr>\n",
       "    <tr>\n",
       "      <th>1</th>\n",
       "      <td>2</td>\n",
       "      <td>Super Mario Bros.</td>\n",
       "      <td>NES</td>\n",
       "      <td>1985</td>\n",
       "      <td>Platform</td>\n",
       "      <td>Nintendo</td>\n",
       "      <td>29.080000</td>\n",
       "      <td>3.58</td>\n",
       "      <td>6.81</td>\n",
       "      <td>0.77</td>\n",
       "      <td>40.240002</td>\n",
       "      <td>Nintendo Entertainment System</td>\n",
       "    </tr>\n",
       "    <tr>\n",
       "      <th>2</th>\n",
       "      <td>3</td>\n",
       "      <td>Mario Kart Wii</td>\n",
       "      <td>Wii</td>\n",
       "      <td>2008</td>\n",
       "      <td>Racing</td>\n",
       "      <td>Nintendo</td>\n",
       "      <td>15.850000</td>\n",
       "      <td>12.88</td>\n",
       "      <td>3.79</td>\n",
       "      <td>3.31</td>\n",
       "      <td>35.820000</td>\n",
       "      <td>Nintendo Wii</td>\n",
       "    </tr>\n",
       "    <tr>\n",
       "      <th>3</th>\n",
       "      <td>4</td>\n",
       "      <td>Wii Sports Resort</td>\n",
       "      <td>Wii</td>\n",
       "      <td>2009</td>\n",
       "      <td>Sports</td>\n",
       "      <td>Nintendo</td>\n",
       "      <td>15.750000</td>\n",
       "      <td>11.01</td>\n",
       "      <td>3.28</td>\n",
       "      <td>2.96</td>\n",
       "      <td>33.000000</td>\n",
       "      <td>Nintendo Wii</td>\n",
       "    </tr>\n",
       "    <tr>\n",
       "      <th>4</th>\n",
       "      <td>5</td>\n",
       "      <td>Pokemon Red/Pokemon Blue</td>\n",
       "      <td>GB</td>\n",
       "      <td>1996</td>\n",
       "      <td>Role-Playing</td>\n",
       "      <td>Nintendo</td>\n",
       "      <td>11.270000</td>\n",
       "      <td>8.89</td>\n",
       "      <td>10.22</td>\n",
       "      <td>1.00</td>\n",
       "      <td>31.370001</td>\n",
       "      <td>Game Boy</td>\n",
       "    </tr>\n",
       "  </tbody>\n",
       "</table>\n",
       "</div>"
      ],
      "text/plain": [
       "   Rank                      Name Platform  Year         Genre Publisher  \\\n",
       "0     1                Wii Sports      Wii  2006        Sports  Nintendo   \n",
       "1     2         Super Mario Bros.      NES  1985      Platform  Nintendo   \n",
       "2     3            Mario Kart Wii      Wii  2008        Racing  Nintendo   \n",
       "3     4         Wii Sports Resort      Wii  2009        Sports  Nintendo   \n",
       "4     5  Pokemon Red/Pokemon Blue       GB  1996  Role-Playing  Nintendo   \n",
       "\n",
       "    NA_Sales  EU_Sales  JP_Sales  Other_Sales  Global_Sales  \\\n",
       "0  41.490002     29.02      3.77         8.46     82.739998   \n",
       "1  29.080000      3.58      6.81         0.77     40.240002   \n",
       "2  15.850000     12.88      3.79         3.31     35.820000   \n",
       "3  15.750000     11.01      3.28         2.96     33.000000   \n",
       "4  11.270000      8.89     10.22         1.00     31.370001   \n",
       "\n",
       "                  Platform_clean  \n",
       "0                   Nintendo Wii  \n",
       "1  Nintendo Entertainment System  \n",
       "2                   Nintendo Wii  \n",
       "3                   Nintendo Wii  \n",
       "4                       Game Boy  "
      ]
     },
     "execution_count": 36,
     "metadata": {},
     "output_type": "execute_result"
    }
   ],
   "source": [
    "df.head()"
   ]
  },
  {
   "cell_type": "code",
   "execution_count": 37,
   "id": "77051a8b-ca24-4e65-9e08-15428e3a8eaf",
   "metadata": {},
   "outputs": [
    {
     "data": {
      "text/plain": [
       "Genre\n",
       "Action          3251\n",
       "Sports          2303\n",
       "Misc            1686\n",
       "Role-Playing    1470\n",
       "Shooter         1282\n",
       "Adventure       1274\n",
       "Racing          1225\n",
       "Platform         875\n",
       "Simulation       848\n",
       "Fighting         836\n",
       "Strategy         670\n",
       "Puzzle           570\n",
       "Name: count, dtype: int64"
      ]
     },
     "execution_count": 37,
     "metadata": {},
     "output_type": "execute_result"
    }
   ],
   "source": [
    "# Checking for redundancy in Genre\n",
    "df['Genre'].value_counts()"
   ]
  },
  {
   "cell_type": "code",
   "execution_count": 38,
   "id": "a29bd38b-9309-46a6-be79-65a596c2649e",
   "metadata": {},
   "outputs": [
    {
     "data": {
      "text/plain": [
       "array(['Sports', 'Platform', 'Racing', 'Role-Playing', 'Puzzle', 'Misc',\n",
       "       'Shooter', 'Simulation', 'Action', 'Fighting', 'Adventure',\n",
       "       'Strategy'], dtype=object)"
      ]
     },
     "execution_count": 38,
     "metadata": {},
     "output_type": "execute_result"
    }
   ],
   "source": [
    "df['Genre'].unique()"
   ]
  },
  {
   "cell_type": "code",
   "execution_count": 39,
   "id": "402ff547-3de3-4293-b39b-1becf8194659",
   "metadata": {},
   "outputs": [
    {
     "data": {
      "text/plain": [
       "array(['Nintendo', 'Microsoft Game Studios', 'Take-Two Interactive',\n",
       "       'Sony Computer Entertainment', 'Activision', 'Ubisoft',\n",
       "       'Bethesda Softworks', 'Electronic Arts', 'Sega', 'SquareSoft',\n",
       "       'Atari', '505 Games', 'Capcom', 'GT Interactive',\n",
       "       'Konami Digital Entertainment',\n",
       "       'Sony Computer Entertainment Europe', 'Square Enix', 'LucasArts',\n",
       "       'Virgin Interactive', 'Warner Bros. Interactive Entertainment',\n",
       "       'Universal Interactive', 'Eidos Interactive', 'RedOctane',\n",
       "       'Vivendi Games', 'Enix Corporation', 'Namco Bandai Games',\n",
       "       'Palcom', 'Hasbro Interactive', 'THQ', 'Fox Interactive',\n",
       "       'Acclaim Entertainment', 'MTV Games', 'Disney Interactive Studios',\n",
       "       'Majesco Entertainment', 'Codemasters', 'Red Orb', 'Level 5',\n",
       "       'Arena Entertainment', 'Midway Games', 'JVC', 'Deep Silver',\n",
       "       '989 Studios', 'NCSoft', 'UEP Systems', 'Parker Bros.', 'Maxis',\n",
       "       'Imagic', 'Tecmo Koei', 'Valve Software', 'ASCII Entertainment',\n",
       "       'Mindscape', 'Infogrames', 'Unknown', 'Square', 'Valve',\n",
       "       'Activision Value', 'Banpresto', 'D3Publisher',\n",
       "       'Oxygen Interactive', 'Red Storm Entertainment', 'Video System',\n",
       "       'Hello Games', 'Global Star', 'Gotham Games', 'Westwood Studios',\n",
       "       'GungHo', 'Crave Entertainment', 'Hudson Soft', 'Coleco',\n",
       "       'Rising Star Games', 'Atlus', 'TDK Mediactive', 'ASC Games',\n",
       "       'Zoo Games', 'Accolade', 'Sony Online Entertainment', '3DO', 'RTL',\n",
       "       'Natsume', 'Focus Home Interactive', 'Alchemist',\n",
       "       'Black Label Games', 'SouthPeak Games', 'Mastertronic', 'Ocean',\n",
       "       'Zoo Digital Publishing', 'Psygnosis', 'City Interactive',\n",
       "       'Empire Interactive', 'Success', 'Compile', 'Russel', 'Taito',\n",
       "       'Agetec', 'GSP', 'Microprose', 'Play It', 'Slightly Mad Studios',\n",
       "       'Tomy Corporation', 'Sammy Corporation', 'Koch Media',\n",
       "       'Game Factory', 'Titus', 'Marvelous Entertainment', 'Genki',\n",
       "       'Mojang', 'Pinnacle', 'CTO SpA', 'TalonSoft', 'Crystal Dynamics',\n",
       "       'SCi', 'Quelle', 'mixi, Inc', 'Rage Software', 'Ubisoft Annecy',\n",
       "       'Scholastic Inc.', 'Interplay', 'Mystique', 'ChunSoft',\n",
       "       'Square EA', '20th Century Fox Video Games', 'Avanquest Software',\n",
       "       'Hudson Entertainment', 'Nordic Games', 'Men-A-Vision', 'Nobilis',\n",
       "       'Big Ben Interactive', 'Touchstone', 'Spike', 'Jester Interactive',\n",
       "       'Nippon Ichi Software', 'LEGO Media', 'Quest',\n",
       "       'Illusion Softworks', 'Tigervision', 'Funbox Media',\n",
       "       'Rocket Company', 'Metro 3D', 'Mattel Interactive', 'IE Institute',\n",
       "       'Rondomedia', 'Sony Computer Entertainment America',\n",
       "       'Universal Gamex', 'Ghostlight', 'Wizard Video Games',\n",
       "       'BMG Interactive Entertainment', 'PQube', 'Trion Worlds', 'Laguna',\n",
       "       'Ignition Entertainment', 'Takara', 'Kadokawa Shoten', 'Destineer',\n",
       "       'Enterbrain', 'Xseed Games', 'Imagineer',\n",
       "       'System 3 Arcade Software', 'CPG Products', 'Aruze Corp',\n",
       "       'Gamebridge', 'Midas Interactive Entertainment', 'Jaleco',\n",
       "       'Answer Software', 'XS Games', 'Activision Blizzard',\n",
       "       'Pack In Soft', 'Rebellion', 'Xplosiv', 'GameMill Entertainment',\n",
       "       'Wanadoo', 'NovaLogic', 'Telltale Games', 'Epoch',\n",
       "       'BAM! Entertainment', 'Knowledge Adventure', 'Mastiff',\n",
       "       'Tetris Online', 'Harmonix Music Systems', 'ESP', 'TYO',\n",
       "       'Telegames', 'Mud Duck Productions', 'Screenlife', 'Pioneer LDC',\n",
       "       'Magical Company', 'Mentor Interactive', 'Kemco',\n",
       "       'Human Entertainment', 'Avanquest', 'Data Age',\n",
       "       'Electronic Arts Victor', 'Black Bean Games', 'Jack of All Games',\n",
       "       '989 Sports', 'Takara Tomy', 'Media Rings', 'Elf', 'Starfish',\n",
       "       'Zushi Games', 'Jorudan', 'Destination Software, Inc', 'New',\n",
       "       'Brash Entertainment', 'ITT Family Games', 'PopCap Games',\n",
       "       'Home Entertainment Suppliers', 'Ackkstudios', 'Starpath Corp.',\n",
       "       'P2 Games', 'BPS', 'Gathering of Developers', 'NewKidCo',\n",
       "       'Storm City Games', 'CokeM Interactive', 'CBS Electronics',\n",
       "       'Magix', 'Marvelous Interactive', 'Kalypso Media',\n",
       "       'Nihon Falcom Corporation', 'Wargaming.net', 'Angel Studios',\n",
       "       'Arc System Works', 'Playmates', 'SNK Playmore',\n",
       "       'Hamster Corporation', 'From Software', 'Nippon Columbia',\n",
       "       'Nichibutsu', 'Little Orbit', 'Conspiracy Entertainment',\n",
       "       'DTP Entertainment', 'Hect', 'Mumbo Jumbo',\n",
       "       'Pacific Century Cyber Works', 'Indie Games', 'Liquid Games',\n",
       "       'NEC', 'Axela', 'ArtDink', 'Sunsoft', 'Gust', 'SNK',\n",
       "       'NEC Interchannel', 'FuRyu', 'Xing Entertainment', 'ValuSoft',\n",
       "       'Victor Interactive', 'Detn8 Games', 'American Softworks',\n",
       "       'Nordcurrent', 'Bomb', 'Falcom Corporation', 'AQ Interactive',\n",
       "       'CCP', 'Milestone S.r.l.', 'JoWood Productions',\n",
       "       'Seta Corporation', 'On Demand', 'NCS', 'Aspyr',\n",
       "       'Gremlin Interactive Ltd', 'Agatsuma Entertainment',\n",
       "       'Compile Heart', 'Culture Brain', 'Mad Catz', 'Shogakukan',\n",
       "       'Merscom LLC', 'Rebellion Developments', 'Nippon Telenet',\n",
       "       'TDK Core', 'bitComposer Games', 'Foreign Media Games', 'Astragon',\n",
       "       'SSI', 'Kadokawa Games', 'Idea Factory',\n",
       "       'Performance Designed Products', 'Asylum Entertainment',\n",
       "       'Core Design Ltd.', 'PlayV', 'UFO Interactive',\n",
       "       'Idea Factory International', 'Playlogic Game Factory',\n",
       "       'Essential Games', 'Adeline Software', 'Funcom',\n",
       "       'Panther Software', 'Blast! Entertainment Ltd', 'Game Life',\n",
       "       'DSI Games', 'Avalon Interactive', 'Popcorn Arcade',\n",
       "       'Neko Entertainment', 'Vir2L Studios', 'Aques', 'Syscom',\n",
       "       'White Park Bay Software', 'System 3', 'Vatical Entertainment',\n",
       "       'Daedalic', 'EA Games', 'Media Factory', 'Vic Tokai',\n",
       "       'The Adventure Company', 'Game Arts', 'Broccoli', 'Acquire',\n",
       "       'General Entertainment', 'Excalibur Publishing', 'Imadio',\n",
       "       'Swing! Entertainment', 'Sony Music Entertainment', 'Aqua Plus',\n",
       "       'Paradox Interactive', 'Hip Interactive',\n",
       "       'DreamCatcher Interactive', 'Tripwire Interactive', 'Sting',\n",
       "       'Yacht Club Games', 'SCS Software', 'Bigben Interactive',\n",
       "       'Havas Interactive', 'Slitherine Software', 'Graffiti', 'Funsta',\n",
       "       'Telstar', 'U.S. Gold', 'DreamWorks Interactive',\n",
       "       'Data Design Interactive', 'MTO', 'DHM Interactive', 'FunSoft',\n",
       "       'SPS', 'Bohemia Interactive', 'Reef Entertainment',\n",
       "       'Tru Blu Entertainment', 'Moss', 'T&E Soft', 'O-Games',\n",
       "       'Aksys Games', 'NDA Productions', 'Data East',\n",
       "       'Time Warner Interactive', 'Gainax Network Systems', 'Daito',\n",
       "       'O3 Entertainment', 'Gameloft', 'Xicat Interactive',\n",
       "       'Simon & Schuster Interactive', 'Valcon Games', 'PopTop Software',\n",
       "       'TOHO', 'HMH Interactive', '5pb', 'Cave',\n",
       "       'CDV Software Entertainment', 'Microids', 'PM Studios', 'Paon',\n",
       "       'Micro Cabin', 'GameTek', 'Benesse', 'Type-Moon',\n",
       "       'Enjoy Gaming ltd.', 'Asmik Corp', 'Interplay Productions',\n",
       "       'Asmik Ace Entertainment', 'inXile Entertainment', 'Image Epoch',\n",
       "       'Phantom EFX', 'Evolved Games', 'responDESIGN',\n",
       "       'Culture Publishers', 'Griffin International', 'Hackberry',\n",
       "       'Hearty Robin', 'Nippon Amuse', 'Origin Systems', 'Seventh Chord',\n",
       "       'Mitsui', 'Milestone', 'Abylight', 'Flight-Plan', 'Glams', 'Locus',\n",
       "       'Warp', 'Daedalic Entertainment', 'Alternative Software',\n",
       "       'Myelin Media', 'Mercury Games', 'Irem Software Engineering',\n",
       "       'Sunrise Interactive', 'Elite', 'Evolution Games', 'Tivola',\n",
       "       'Global A Entertainment', 'Edia', 'Athena', 'Aria', 'Gamecock',\n",
       "       'Tommo', 'Altron', 'Happinet', 'iWin', 'Media Works', 'Fortyfive',\n",
       "       'Revolution Software', 'Imax', 'Crimson Cow', '10TACLE Studios',\n",
       "       'Groove Games', 'Pack-In-Video', 'Insomniac Games',\n",
       "       'Ascaron Entertainment GmbH', 'Asgard', 'Ecole', 'Yumedia',\n",
       "       'Phenomedia', 'HAL Laboratory', 'Grand Prix Games', 'DigiCube',\n",
       "       'Creative Core', 'Kaga Create', 'WayForward Technologies',\n",
       "       'LSP Games', 'ASCII Media Works', 'Coconuts Japan', 'Arika',\n",
       "       'Ertain', 'Marvel Entertainment', 'Prototype', 'Phantagram',\n",
       "       '1C Company', 'The Learning Company', 'TechnoSoft', 'Vap',\n",
       "       'Misawa', 'Tradewest', 'Team17 Software', 'Yeti', 'Pow',\n",
       "       'Navarre Corp', 'MediaQuest', 'Max Five', 'Comfort',\n",
       "       'Monte Christo Multimedia', 'Pony Canyon', 'Riverhillsoft',\n",
       "       'Summitsoft', 'Milestone S.r.l', 'Playmore', 'MLB.com',\n",
       "       'Kool Kizz', 'Flashpoint Games', '49Games', 'Legacy Interactive',\n",
       "       'Alawar Entertainment', 'CyberFront',\n",
       "       'Cloud Imperium Games Corporation', 'Societa',\n",
       "       'Virtual Play Games', 'Interchannel', 'Sonnet', 'Experience Inc.',\n",
       "       'Zenrin', 'Iceberg Interactive', 'Ivolgamus', '2D Boy',\n",
       "       'MC2 Entertainment', 'Kando Games', 'Just Flight', 'Office Create',\n",
       "       'Mamba Games', 'Fields', 'Princess Soft', 'Maximum Family Games',\n",
       "       'Berkeley', 'Fuji', 'Dusenberry Martin Racing', 'imageepoch Inc.',\n",
       "       'Big Fish Games', 'Her Interactive', 'Kamui', 'ASK',\n",
       "       'TopWare Interactive', 'Headup Games', 'KSS', 'Cygames', 'KID',\n",
       "       'Quinrose', 'Sunflowers', 'dramatic create', 'TGL', 'Encore',\n",
       "       'Extreme Entertainment Group', 'Intergrow', 'G.Rev', 'Sweets',\n",
       "       'Kokopeli Digital Studios', 'Number None', 'Nexon', 'id Software',\n",
       "       'BushiRoad', 'Tryfirst', 'Strategy First', '7G//AMES',\n",
       "       'GN Software', \"Yuke's\", 'Easy Interactive', 'Licensed 4U',\n",
       "       'FuRyu Corporation', 'Lexicon Entertainment', 'Paon Corporation',\n",
       "       'Kids Station', 'GOA', 'Graphsim Entertainment', 'King Records',\n",
       "       'Introversion Software', 'Minato Station', 'Devolver Digital',\n",
       "       'Blue Byte', 'Gaga', 'Yamasa Entertainment', 'Plenty', 'Views',\n",
       "       'fonfun', 'NetRevo', 'Codemasters Online', 'Quintet',\n",
       "       'Phoenix Games', 'Dorart', 'Marvelous Games', 'Focus Multimedia',\n",
       "       'Imageworks', 'Karin Entertainment', 'Aerosoft',\n",
       "       'Technos Japan Corporation', 'Gakken', 'Mirai Shounen',\n",
       "       'Datam Polystar', 'Saurus', 'HuneX', 'Revolution (Japan)',\n",
       "       'Giza10', 'Visco', 'Alvion', 'Mycom', 'Giga', 'Warashi',\n",
       "       'System Soft', 'Sold Out', 'Lighthouse Interactive',\n",
       "       'Masque Publishing', 'RED Entertainment', 'Michaelsoft',\n",
       "       'Media Entertainment', 'New World Computing', 'Genterprise',\n",
       "       'Interworks Unlimited, Inc.', 'Boost On', 'Stainless Games',\n",
       "       'EON Digital Entertainment', 'Epic Games', 'Naxat Soft',\n",
       "       'Ascaron Entertainment', 'Piacci', 'Nitroplus',\n",
       "       'Paradox Development', 'Otomate', 'Ongakukan', 'Commseed',\n",
       "       'Inti Creates', 'Takuyo', 'Interchannel-Holon', 'Rain Games',\n",
       "       'UIG Entertainment'], dtype=object)"
      ]
     },
     "execution_count": 39,
     "metadata": {},
     "output_type": "execute_result"
    }
   ],
   "source": [
    "# There is no redundancy in Genre and they are well defined\n",
    "# Checking for redundancy in Publisher\n",
    "df['Publisher'].unique()"
   ]
  },
  {
   "cell_type": "code",
   "execution_count": 40,
   "id": "8d7acc33-308f-4f49-a935-e89014b98ed5",
   "metadata": {},
   "outputs": [],
   "source": [
    "# Although there is no redundancy\n",
    "# Making a new column to store parent company of publishers\n",
    "\n",
    "publisher_map = {\n",
    "    \n",
    "    'Square': 'SquareSoft',\n",
    "    'SquareSoft': 'SquareSoft',\n",
    "    'Square EA': 'SquareSoft',\n",
    "    'Enix Corporation': 'Enix',\n",
    "    'Square Enix': 'Square Enix',\n",
    "    \n",
    "    'Sony Computer Entertainment': 'Sony',\n",
    "    'Sony Computer Entertainment Europe': 'Sony',\n",
    "    'Sony Computer Entertainment America': 'Sony',\n",
    "    'Sony Online Entertainment': 'Sony',\n",
    "    'Sony Music Entertainment': 'Sony',\n",
    "\n",
    "    'Electronic Arts': 'Electronic Arts',\n",
    "    'EA Games': 'Electronic Arts',\n",
    "    'Electronic Arts Victor': 'Electronic Arts',\n",
    "\n",
    "    'Activision': 'Activision',\n",
    "    'Activision Blizzard': 'Activision',\n",
    "    'Activision Value': 'Activision',\n",
    "\n",
    "    'Ubisoft': 'Ubisoft',\n",
    "    'Ubisoft Annecy': 'Ubisoft',\n",
    "\n",
    "    'Valve': 'Valve',\n",
    "    'Valve Software': 'Valve',\n",
    "\n",
    "    'THQ': 'THQ Nordic',\n",
    "    'THQ Nordic': 'THQ Nordic',\n",
    "    'Nordic Games': 'THQ Nordic',\n",
    "\n",
    "    'LucasArts': 'LucasArts',\n",
    "    'Lucasfilm Games': 'LucasArts',\n",
    "\n",
    "    'Namco Bandai Games': 'Bandai Namco',\n",
    "    'Bandai Namco': 'Bandai Namco',\n",
    "    'Bandai': 'Bandai Namco',\n",
    "    'Namco': 'Bandai Namco',\n",
    "\n",
    "    'Konami Digital Entertainment': 'Konami',\n",
    "\n",
    "    'Atari': 'Atari',\n",
    "    'Infogrames': 'Atari',\n",
    "    'Atari (former Infogrames)': 'Atari',\n",
    "\n",
    "    '3DO': '3DO',\n",
    "    'The 3DO Company': '3DO',\n",
    "\n",
    "    'Deep Silver': 'Deep Silver',\n",
    "    'Koch Media': 'Deep Silver',\n",
    "\n",
    "    'Capcom Co., Ltd.': 'Capcom',\n",
    "    'Capcom': 'Capcom',\n",
    "\n",
    "    'Microsoft Game Studios': 'Microsoft',\n",
    "    'Microsoft': 'Microsoft',\n",
    "\n",
    "    'Take-Two Interactive': 'Take-Two',\n",
    "    '2K Games': 'Take-Two',\n",
    "    'Rockstar Games': 'Take-Two',\n",
    "    \n",
    "}\n",
    "\n",
    "\n",
    "df['Publisher_parent'] = df['Publisher'].replace(publisher_map)"
   ]
  },
  {
   "cell_type": "code",
   "execution_count": 41,
   "id": "11e68af1-c9aa-4176-afc1-2987d5291e7e",
   "metadata": {},
   "outputs": [
    {
     "data": {
      "text/html": [
       "<div>\n",
       "<style scoped>\n",
       "    .dataframe tbody tr th:only-of-type {\n",
       "        vertical-align: middle;\n",
       "    }\n",
       "\n",
       "    .dataframe tbody tr th {\n",
       "        vertical-align: top;\n",
       "    }\n",
       "\n",
       "    .dataframe thead th {\n",
       "        text-align: right;\n",
       "    }\n",
       "</style>\n",
       "<table border=\"1\" class=\"dataframe\">\n",
       "  <thead>\n",
       "    <tr style=\"text-align: right;\">\n",
       "      <th></th>\n",
       "      <th>Rank</th>\n",
       "      <th>Name</th>\n",
       "      <th>Platform</th>\n",
       "      <th>Year</th>\n",
       "      <th>Genre</th>\n",
       "      <th>Publisher</th>\n",
       "      <th>NA_Sales</th>\n",
       "      <th>EU_Sales</th>\n",
       "      <th>JP_Sales</th>\n",
       "      <th>Other_Sales</th>\n",
       "      <th>Global_Sales</th>\n",
       "      <th>Platform_clean</th>\n",
       "      <th>Publisher_parent</th>\n",
       "    </tr>\n",
       "  </thead>\n",
       "  <tbody>\n",
       "    <tr>\n",
       "      <th>0</th>\n",
       "      <td>1</td>\n",
       "      <td>Wii Sports</td>\n",
       "      <td>Wii</td>\n",
       "      <td>2006</td>\n",
       "      <td>Sports</td>\n",
       "      <td>Nintendo</td>\n",
       "      <td>41.490002</td>\n",
       "      <td>29.02</td>\n",
       "      <td>3.77</td>\n",
       "      <td>8.46</td>\n",
       "      <td>82.739998</td>\n",
       "      <td>Nintendo Wii</td>\n",
       "      <td>Nintendo</td>\n",
       "    </tr>\n",
       "    <tr>\n",
       "      <th>1</th>\n",
       "      <td>2</td>\n",
       "      <td>Super Mario Bros.</td>\n",
       "      <td>NES</td>\n",
       "      <td>1985</td>\n",
       "      <td>Platform</td>\n",
       "      <td>Nintendo</td>\n",
       "      <td>29.080000</td>\n",
       "      <td>3.58</td>\n",
       "      <td>6.81</td>\n",
       "      <td>0.77</td>\n",
       "      <td>40.240002</td>\n",
       "      <td>Nintendo Entertainment System</td>\n",
       "      <td>Nintendo</td>\n",
       "    </tr>\n",
       "    <tr>\n",
       "      <th>2</th>\n",
       "      <td>3</td>\n",
       "      <td>Mario Kart Wii</td>\n",
       "      <td>Wii</td>\n",
       "      <td>2008</td>\n",
       "      <td>Racing</td>\n",
       "      <td>Nintendo</td>\n",
       "      <td>15.850000</td>\n",
       "      <td>12.88</td>\n",
       "      <td>3.79</td>\n",
       "      <td>3.31</td>\n",
       "      <td>35.820000</td>\n",
       "      <td>Nintendo Wii</td>\n",
       "      <td>Nintendo</td>\n",
       "    </tr>\n",
       "    <tr>\n",
       "      <th>3</th>\n",
       "      <td>4</td>\n",
       "      <td>Wii Sports Resort</td>\n",
       "      <td>Wii</td>\n",
       "      <td>2009</td>\n",
       "      <td>Sports</td>\n",
       "      <td>Nintendo</td>\n",
       "      <td>15.750000</td>\n",
       "      <td>11.01</td>\n",
       "      <td>3.28</td>\n",
       "      <td>2.96</td>\n",
       "      <td>33.000000</td>\n",
       "      <td>Nintendo Wii</td>\n",
       "      <td>Nintendo</td>\n",
       "    </tr>\n",
       "    <tr>\n",
       "      <th>4</th>\n",
       "      <td>5</td>\n",
       "      <td>Pokemon Red/Pokemon Blue</td>\n",
       "      <td>GB</td>\n",
       "      <td>1996</td>\n",
       "      <td>Role-Playing</td>\n",
       "      <td>Nintendo</td>\n",
       "      <td>11.270000</td>\n",
       "      <td>8.89</td>\n",
       "      <td>10.22</td>\n",
       "      <td>1.00</td>\n",
       "      <td>31.370001</td>\n",
       "      <td>Game Boy</td>\n",
       "      <td>Nintendo</td>\n",
       "    </tr>\n",
       "  </tbody>\n",
       "</table>\n",
       "</div>"
      ],
      "text/plain": [
       "   Rank                      Name Platform  Year         Genre Publisher  \\\n",
       "0     1                Wii Sports      Wii  2006        Sports  Nintendo   \n",
       "1     2         Super Mario Bros.      NES  1985      Platform  Nintendo   \n",
       "2     3            Mario Kart Wii      Wii  2008        Racing  Nintendo   \n",
       "3     4         Wii Sports Resort      Wii  2009        Sports  Nintendo   \n",
       "4     5  Pokemon Red/Pokemon Blue       GB  1996  Role-Playing  Nintendo   \n",
       "\n",
       "    NA_Sales  EU_Sales  JP_Sales  Other_Sales  Global_Sales  \\\n",
       "0  41.490002     29.02      3.77         8.46     82.739998   \n",
       "1  29.080000      3.58      6.81         0.77     40.240002   \n",
       "2  15.850000     12.88      3.79         3.31     35.820000   \n",
       "3  15.750000     11.01      3.28         2.96     33.000000   \n",
       "4  11.270000      8.89     10.22         1.00     31.370001   \n",
       "\n",
       "                  Platform_clean Publisher_parent  \n",
       "0                   Nintendo Wii         Nintendo  \n",
       "1  Nintendo Entertainment System         Nintendo  \n",
       "2                   Nintendo Wii         Nintendo  \n",
       "3                   Nintendo Wii         Nintendo  \n",
       "4                       Game Boy         Nintendo  "
      ]
     },
     "execution_count": 41,
     "metadata": {},
     "output_type": "execute_result"
    }
   ],
   "source": [
    "df.head()"
   ]
  },
  {
   "cell_type": "markdown",
   "id": "815d04ef-b8ea-4e81-adc1-7cb56c86857a",
   "metadata": {},
   "source": [
    "### Data cleaning and preparation complete"
   ]
  },
  {
   "cell_type": "markdown",
   "id": "c2f68a8b-2865-4e8e-aeba-36665e137cd1",
   "metadata": {},
   "source": [
    "# _Analysis_ & _-Visualization-_"
   ]
  },
  {
   "cell_type": "code",
   "execution_count": 42,
   "id": "66619384-14f1-4369-9122-bd781b061386",
   "metadata": {},
   "outputs": [
    {
     "name": "stdout",
     "output_type": "stream",
     "text": [
      "<class 'pandas.core.frame.DataFrame'>\n",
      "Index: 16290 entries, 0 to 16595\n",
      "Data columns (total 13 columns):\n",
      " #   Column            Non-Null Count  Dtype  \n",
      "---  ------            --------------  -----  \n",
      " 0   Rank              16290 non-null  int32  \n",
      " 1   Name              16290 non-null  object \n",
      " 2   Platform          16290 non-null  object \n",
      " 3   Year              16290 non-null  int32  \n",
      " 4   Genre             16290 non-null  object \n",
      " 5   Publisher         16290 non-null  object \n",
      " 6   NA_Sales          16290 non-null  float32\n",
      " 7   EU_Sales          16290 non-null  float32\n",
      " 8   JP_Sales          16290 non-null  float32\n",
      " 9   Other_Sales       16290 non-null  float32\n",
      " 10  Global_Sales      16290 non-null  float32\n",
      " 11  Platform_clean    16290 non-null  object \n",
      " 12  Publisher_parent  16290 non-null  object \n",
      "dtypes: float32(5), int32(2), object(6)\n",
      "memory usage: 1.3+ MB\n"
     ]
    }
   ],
   "source": [
    "df.info()"
   ]
  },
  {
   "cell_type": "code",
   "execution_count": 43,
   "id": "c456f10a-ed40-4d99-aae5-f4b3a3b386e2",
   "metadata": {},
   "outputs": [
    {
     "data": {
      "text/plain": [
       "0                  Wii Sports\n",
       "1           Super Mario Bros.\n",
       "2              Mario Kart Wii\n",
       "3           Wii Sports Resort\n",
       "4    Pokemon Red/Pokemon Blue\n",
       "Name: Name, dtype: object"
      ]
     },
     "execution_count": 43,
     "metadata": {},
     "output_type": "execute_result"
    }
   ],
   "source": [
    "df['Name'].head()"
   ]
  },
  {
   "cell_type": "markdown",
   "id": "d9b061ae-238a-4b68-9558-14e8a19eb11a",
   "metadata": {},
   "source": [
    "## The top 5 ranked games of all time are\n",
    "### 1.) Wii Sports\n",
    "### 2.) Super Mario Bros.\n",
    "### 3.) Mario Kart Wii\n",
    "### 4.) Wii Sports Resort\n",
    "### 5.) Pokemon Red/Pokemon Blue"
   ]
  },
  {
   "cell_type": "code",
   "execution_count": 44,
   "id": "d5b4d2f9-f014-4722-b2d5-5c1276501781",
   "metadata": {},
   "outputs": [
    {
     "data": {
      "text/plain": [
       "Platform_clean\n",
       "Nintendo DS      2131\n",
       "PlayStation 2    2127\n",
       "PlayStation 3    1303\n",
       "Nintendo Wii     1290\n",
       "Xbox 360         1234\n",
       "Name: count, dtype: int64"
      ]
     },
     "execution_count": 44,
     "metadata": {},
     "output_type": "execute_result"
    }
   ],
   "source": [
    "df['Platform_clean'].value_counts().head()"
   ]
  },
  {
   "cell_type": "markdown",
   "id": "f19710f4-b095-4db8-bf08-b5738acd3405",
   "metadata": {},
   "source": [
    "## Top 5 platforms with the most number of games of all time are\n",
    "### 1.) Nintendo DS with 2131 games\n",
    "### 2.) PlayStation 2 with 2127 games\n",
    "### 3.) PlayStation 3 with 1303 games\n",
    "### 4.) Nintendo Wii with 1290 games\n",
    "### 5.) Xbox 360 with 1234 games"
   ]
  },
  {
   "cell_type": "code",
   "execution_count": 45,
   "id": "a8273022-1663-4965-9a96-6782a3dd7fb9",
   "metadata": {},
   "outputs": [
    {
     "data": {
      "image/png": "[encoded data removed]",
      "text/plain": [
       "<Figure size 600x600 with 1 Axes>"
      ]
     },
     "metadata": {},
     "output_type": "display_data"
    }
   ],
   "source": [
    "platform_counts = df['Platform_clean'].value_counts()\n",
    "# Top 5 platforms\n",
    "top_5 = platform_counts.head(5)\n",
    "top_5_labels = top_5.index.tolist()\n",
    "top_5_values = top_5.values.tolist()\n",
    "\n",
    "# All others combined\n",
    "others_value = platform_counts.iloc[5:].sum()\n",
    "\n",
    "# Add \"Others\" to labels and values\n",
    "labels = top_5_labels + ['Others']\n",
    "values = top_5_values + [others_value]\n",
    "\n",
    "# Pie chart\n",
    "plt.figure(figsize=(6, 6))\n",
    "colors = plt.get_cmap('tab20c').colors\n",
    "plt.pie(values, labels=labels, autopct='%1.1f%%', startangle=140, colors=colors[:6])\n",
    "plt.title('Platform Market Share by Number of Games Released', fontsize=14)\n",
    "plt.axis('equal')  # Equal aspect ratio to ensure it's a circle\n",
    "plt.tight_layout()\n",
    "plt.show()"
   ]
  },
  {
   "cell_type": "markdown",
   "id": "754b33b8-c5fd-4540-a837-0b899d4016b4",
   "metadata": {},
   "source": [
    "## As evident from the pie chart above, the top 5 platforms alone take up 49.6% of the total games released"
   ]
  },
  {
   "cell_type": "code",
   "execution_count": 46,
   "id": "67f28340-bc33-41b2-83c3-1d7f20657872",
   "metadata": {},
   "outputs": [
    {
     "data": {
      "text/plain": [
       "Publisher_parent\n",
       "Electronic Arts    1341\n",
       "Activision          996\n",
       "Ubisoft             932\n",
       "Bandai Namco        928\n",
       "Konami              823\n",
       "Name: count, dtype: int64"
      ]
     },
     "execution_count": 46,
     "metadata": {},
     "output_type": "execute_result"
    }
   ],
   "source": [
    "df['Publisher_parent'].value_counts().head()"
   ]
  },
  {
   "cell_type": "markdown",
   "id": "229154e5-95e0-45ec-a93f-2c28b04d6d44",
   "metadata": {},
   "source": [
    "## The top 5 Publishers with most number of published games of all time are\n",
    "### 1.) Electronic Arts with 1341 games published\n",
    "### 2.) Activision with 996 games published\n",
    "### 3.) Ubisoft with 932 games published\n",
    "### 4.) Bandai Namco with 928 games published\n",
    "### 5.) Konami with 823 games published"
   ]
  },
  {
   "cell_type": "code",
   "execution_count": 47,
   "id": "82ab8313-0e41-49bc-a34f-ecd72f5e9ee9",
   "metadata": {},
   "outputs": [
    {
     "data": {
      "image/png": "[encoded data removed]",
      "text/plain": [
       "<Figure size 600x600 with 1 Axes>"
      ]
     },
     "metadata": {},
     "output_type": "display_data"
    }
   ],
   "source": [
    "top_publishers = df['Publisher_parent'].value_counts().head().reset_index()\n",
    "top_publishers.columns = ['Publisher', 'Game_Count']\n",
    "\n",
    "plt.figure(figsize=(6, 6))\n",
    "sns.barplot(data=top_publishers, x='Publisher', y='Game_Count')\n",
    "plt.title('Top 5 Publishers by Number of Games Published')\n",
    "plt.xlabel('Publisher')\n",
    "plt.ylabel('Number of Games Published')\n",
    "\n",
    "plt.tight_layout()\n",
    "plt.show()"
   ]
  },
  {
   "cell_type": "markdown",
   "id": "17d19c25-0d6a-4f56-b2c7-0816b2cad333",
   "metadata": {},
   "source": [
    "## It is evident from the above chart that out of the top 5, EA has made significantly more games"
   ]
  },
  {
   "cell_type": "code",
   "execution_count": 48,
   "id": "3ad482f5-1f50-47bb-b274-000bab8b4fd9",
   "metadata": {},
   "outputs": [
    {
     "data": {
      "text/html": [
       "<div>\n",
       "<style scoped>\n",
       "    .dataframe tbody tr th:only-of-type {\n",
       "        vertical-align: middle;\n",
       "    }\n",
       "\n",
       "    .dataframe tbody tr th {\n",
       "        vertical-align: top;\n",
       "    }\n",
       "\n",
       "    .dataframe thead th {\n",
       "        text-align: right;\n",
       "    }\n",
       "</style>\n",
       "<table border=\"1\" class=\"dataframe\">\n",
       "  <thead>\n",
       "    <tr style=\"text-align: right;\">\n",
       "      <th></th>\n",
       "      <th>Rank</th>\n",
       "      <th>Name</th>\n",
       "      <th>Platform</th>\n",
       "      <th>Year</th>\n",
       "      <th>Genre</th>\n",
       "      <th>Publisher</th>\n",
       "      <th>NA_Sales</th>\n",
       "      <th>EU_Sales</th>\n",
       "      <th>JP_Sales</th>\n",
       "      <th>Other_Sales</th>\n",
       "      <th>Global_Sales</th>\n",
       "      <th>Platform_clean</th>\n",
       "      <th>Publisher_parent</th>\n",
       "    </tr>\n",
       "  </thead>\n",
       "  <tbody>\n",
       "    <tr>\n",
       "      <th>0</th>\n",
       "      <td>1</td>\n",
       "      <td>Wii Sports</td>\n",
       "      <td>Wii</td>\n",
       "      <td>2006</td>\n",
       "      <td>Sports</td>\n",
       "      <td>Nintendo</td>\n",
       "      <td>41.490002</td>\n",
       "      <td>29.02</td>\n",
       "      <td>3.77</td>\n",
       "      <td>8.46</td>\n",
       "      <td>82.739998</td>\n",
       "      <td>Nintendo Wii</td>\n",
       "      <td>Nintendo</td>\n",
       "    </tr>\n",
       "    <tr>\n",
       "      <th>1</th>\n",
       "      <td>2</td>\n",
       "      <td>Super Mario Bros.</td>\n",
       "      <td>NES</td>\n",
       "      <td>1985</td>\n",
       "      <td>Platform</td>\n",
       "      <td>Nintendo</td>\n",
       "      <td>29.080000</td>\n",
       "      <td>3.58</td>\n",
       "      <td>6.81</td>\n",
       "      <td>0.77</td>\n",
       "      <td>40.240002</td>\n",
       "      <td>Nintendo Entertainment System</td>\n",
       "      <td>Nintendo</td>\n",
       "    </tr>\n",
       "    <tr>\n",
       "      <th>9</th>\n",
       "      <td>10</td>\n",
       "      <td>Duck Hunt</td>\n",
       "      <td>NES</td>\n",
       "      <td>1984</td>\n",
       "      <td>Shooter</td>\n",
       "      <td>Nintendo</td>\n",
       "      <td>26.930000</td>\n",
       "      <td>0.63</td>\n",
       "      <td>0.28</td>\n",
       "      <td>0.47</td>\n",
       "      <td>28.309999</td>\n",
       "      <td>Nintendo Entertainment System</td>\n",
       "      <td>Nintendo</td>\n",
       "    </tr>\n",
       "    <tr>\n",
       "      <th>5</th>\n",
       "      <td>6</td>\n",
       "      <td>Tetris</td>\n",
       "      <td>GB</td>\n",
       "      <td>1989</td>\n",
       "      <td>Puzzle</td>\n",
       "      <td>Nintendo</td>\n",
       "      <td>23.200001</td>\n",
       "      <td>2.26</td>\n",
       "      <td>4.22</td>\n",
       "      <td>0.58</td>\n",
       "      <td>30.260000</td>\n",
       "      <td>Game Boy</td>\n",
       "      <td>Nintendo</td>\n",
       "    </tr>\n",
       "    <tr>\n",
       "      <th>2</th>\n",
       "      <td>3</td>\n",
       "      <td>Mario Kart Wii</td>\n",
       "      <td>Wii</td>\n",
       "      <td>2008</td>\n",
       "      <td>Racing</td>\n",
       "      <td>Nintendo</td>\n",
       "      <td>15.850000</td>\n",
       "      <td>12.88</td>\n",
       "      <td>3.79</td>\n",
       "      <td>3.31</td>\n",
       "      <td>35.820000</td>\n",
       "      <td>Nintendo Wii</td>\n",
       "      <td>Nintendo</td>\n",
       "    </tr>\n",
       "  </tbody>\n",
       "</table>\n",
       "</div>"
      ],
      "text/plain": [
       "   Rank               Name Platform  Year     Genre Publisher   NA_Sales  \\\n",
       "0     1         Wii Sports      Wii  2006    Sports  Nintendo  41.490002   \n",
       "1     2  Super Mario Bros.      NES  1985  Platform  Nintendo  29.080000   \n",
       "9    10          Duck Hunt      NES  1984   Shooter  Nintendo  26.930000   \n",
       "5     6             Tetris       GB  1989    Puzzle  Nintendo  23.200001   \n",
       "2     3     Mario Kart Wii      Wii  2008    Racing  Nintendo  15.850000   \n",
       "\n",
       "   EU_Sales  JP_Sales  Other_Sales  Global_Sales  \\\n",
       "0     29.02      3.77         8.46     82.739998   \n",
       "1      3.58      6.81         0.77     40.240002   \n",
       "9      0.63      0.28         0.47     28.309999   \n",
       "5      2.26      4.22         0.58     30.260000   \n",
       "2     12.88      3.79         3.31     35.820000   \n",
       "\n",
       "                  Platform_clean Publisher_parent  \n",
       "0                   Nintendo Wii         Nintendo  \n",
       "1  Nintendo Entertainment System         Nintendo  \n",
       "9  Nintendo Entertainment System         Nintendo  \n",
       "5                       Game Boy         Nintendo  \n",
       "2                   Nintendo Wii         Nintendo  "
      ]
     },
     "execution_count": 48,
     "metadata": {},
     "output_type": "execute_result"
    }
   ],
   "source": [
    "df.sort_values(by='NA_Sales',ascending = False).head()"
   ]
  },
  {
   "cell_type": "markdown",
   "id": "01753e1d-e3aa-4d2a-b755-04e0b7f71bb8",
   "metadata": {},
   "source": [
    "## Top 5 Grossing games in North America of all time are\n",
    "### 1.) Wii Sports with 41.49 million copies sold\n",
    "### 2.) Super Mario Bros. with 29.08 million copies sold\n",
    "### 3.) Duck Hunt with 26.93 million copies sold\n",
    "### 4.) Tetris with 23.20 million copies sold\n",
    "### 5.) Mario Kart Wii with 15.85 million copies sold"
   ]
  },
  {
   "cell_type": "code",
   "execution_count": 49,
   "id": "91a016d8-ad7c-4a07-8342-0ca90e6c64e6",
   "metadata": {},
   "outputs": [
    {
     "data": {
      "text/html": [
       "<div>\n",
       "<style scoped>\n",
       "    .dataframe tbody tr th:only-of-type {\n",
       "        vertical-align: middle;\n",
       "    }\n",
       "\n",
       "    .dataframe tbody tr th {\n",
       "        vertical-align: top;\n",
       "    }\n",
       "\n",
       "    .dataframe thead th {\n",
       "        text-align: right;\n",
       "    }\n",
       "</style>\n",
       "<table border=\"1\" class=\"dataframe\">\n",
       "  <thead>\n",
       "    <tr style=\"text-align: right;\">\n",
       "      <th></th>\n",
       "      <th>Rank</th>\n",
       "      <th>Name</th>\n",
       "      <th>Platform</th>\n",
       "      <th>Year</th>\n",
       "      <th>Genre</th>\n",
       "      <th>Publisher</th>\n",
       "      <th>NA_Sales</th>\n",
       "      <th>EU_Sales</th>\n",
       "      <th>JP_Sales</th>\n",
       "      <th>Other_Sales</th>\n",
       "      <th>Global_Sales</th>\n",
       "      <th>Platform_clean</th>\n",
       "      <th>Publisher_parent</th>\n",
       "    </tr>\n",
       "  </thead>\n",
       "  <tbody>\n",
       "    <tr>\n",
       "      <th>0</th>\n",
       "      <td>1</td>\n",
       "      <td>Wii Sports</td>\n",
       "      <td>Wii</td>\n",
       "      <td>2006</td>\n",
       "      <td>Sports</td>\n",
       "      <td>Nintendo</td>\n",
       "      <td>41.490002</td>\n",
       "      <td>29.02</td>\n",
       "      <td>3.77</td>\n",
       "      <td>8.46</td>\n",
       "      <td>82.739998</td>\n",
       "      <td>Nintendo Wii</td>\n",
       "      <td>Nintendo</td>\n",
       "    </tr>\n",
       "    <tr>\n",
       "      <th>2</th>\n",
       "      <td>3</td>\n",
       "      <td>Mario Kart Wii</td>\n",
       "      <td>Wii</td>\n",
       "      <td>2008</td>\n",
       "      <td>Racing</td>\n",
       "      <td>Nintendo</td>\n",
       "      <td>15.850000</td>\n",
       "      <td>12.88</td>\n",
       "      <td>3.79</td>\n",
       "      <td>3.31</td>\n",
       "      <td>35.820000</td>\n",
       "      <td>Nintendo Wii</td>\n",
       "      <td>Nintendo</td>\n",
       "    </tr>\n",
       "    <tr>\n",
       "      <th>3</th>\n",
       "      <td>4</td>\n",
       "      <td>Wii Sports Resort</td>\n",
       "      <td>Wii</td>\n",
       "      <td>2009</td>\n",
       "      <td>Sports</td>\n",
       "      <td>Nintendo</td>\n",
       "      <td>15.750000</td>\n",
       "      <td>11.01</td>\n",
       "      <td>3.28</td>\n",
       "      <td>2.96</td>\n",
       "      <td>33.000000</td>\n",
       "      <td>Nintendo Wii</td>\n",
       "      <td>Nintendo</td>\n",
       "    </tr>\n",
       "    <tr>\n",
       "      <th>10</th>\n",
       "      <td>11</td>\n",
       "      <td>Nintendogs</td>\n",
       "      <td>DS</td>\n",
       "      <td>2005</td>\n",
       "      <td>Simulation</td>\n",
       "      <td>Nintendo</td>\n",
       "      <td>9.070000</td>\n",
       "      <td>11.00</td>\n",
       "      <td>1.93</td>\n",
       "      <td>2.75</td>\n",
       "      <td>24.760000</td>\n",
       "      <td>Nintendo DS</td>\n",
       "      <td>Nintendo</td>\n",
       "    </tr>\n",
       "    <tr>\n",
       "      <th>16</th>\n",
       "      <td>17</td>\n",
       "      <td>Grand Theft Auto V</td>\n",
       "      <td>PS3</td>\n",
       "      <td>2013</td>\n",
       "      <td>Action</td>\n",
       "      <td>Take-Two Interactive</td>\n",
       "      <td>7.010000</td>\n",
       "      <td>9.27</td>\n",
       "      <td>0.97</td>\n",
       "      <td>4.14</td>\n",
       "      <td>21.400000</td>\n",
       "      <td>PlayStation 3</td>\n",
       "      <td>Take-Two</td>\n",
       "    </tr>\n",
       "  </tbody>\n",
       "</table>\n",
       "</div>"
      ],
      "text/plain": [
       "    Rank                Name Platform  Year       Genre             Publisher  \\\n",
       "0      1          Wii Sports      Wii  2006      Sports              Nintendo   \n",
       "2      3      Mario Kart Wii      Wii  2008      Racing              Nintendo   \n",
       "3      4   Wii Sports Resort      Wii  2009      Sports              Nintendo   \n",
       "10    11          Nintendogs       DS  2005  Simulation              Nintendo   \n",
       "16    17  Grand Theft Auto V      PS3  2013      Action  Take-Two Interactive   \n",
       "\n",
       "     NA_Sales  EU_Sales  JP_Sales  Other_Sales  Global_Sales Platform_clean  \\\n",
       "0   41.490002     29.02      3.77         8.46     82.739998   Nintendo Wii   \n",
       "2   15.850000     12.88      3.79         3.31     35.820000   Nintendo Wii   \n",
       "3   15.750000     11.01      3.28         2.96     33.000000   Nintendo Wii   \n",
       "10   9.070000     11.00      1.93         2.75     24.760000    Nintendo DS   \n",
       "16   7.010000      9.27      0.97         4.14     21.400000  PlayStation 3   \n",
       "\n",
       "   Publisher_parent  \n",
       "0          Nintendo  \n",
       "2          Nintendo  \n",
       "3          Nintendo  \n",
       "10         Nintendo  \n",
       "16         Take-Two  "
      ]
     },
     "execution_count": 49,
     "metadata": {},
     "output_type": "execute_result"
    }
   ],
   "source": [
    "df.sort_values(by='EU_Sales',ascending = False).head()"
   ]
  },
  {
   "cell_type": "markdown",
   "id": "bcc4026c-c468-4e3e-913a-fa9836ba4cd9",
   "metadata": {},
   "source": [
    "## Top 5 Grossing games in Europe of all time are\n",
    "### 1.) Wii Sports with 29.02 million copies sold\n",
    "### 2.) Mario Kart Wii with 12.88 million copies sold\n",
    "### 3.) Wii Sports Resort with 11.01 million copies sold\n",
    "### 4.) Nontendogs with 11 million copies sold\n",
    "### 5.) Grand Theft Auto V with 9.27 million copies sold"
   ]
  },
  {
   "cell_type": "code",
   "execution_count": 50,
   "id": "50128cd7-6cd7-4133-aa4f-7da29e895477",
   "metadata": {},
   "outputs": [
    {
     "data": {
      "text/html": [
       "<div>\n",
       "<style scoped>\n",
       "    .dataframe tbody tr th:only-of-type {\n",
       "        vertical-align: middle;\n",
       "    }\n",
       "\n",
       "    .dataframe tbody tr th {\n",
       "        vertical-align: top;\n",
       "    }\n",
       "\n",
       "    .dataframe thead th {\n",
       "        text-align: right;\n",
       "    }\n",
       "</style>\n",
       "<table border=\"1\" class=\"dataframe\">\n",
       "  <thead>\n",
       "    <tr style=\"text-align: right;\">\n",
       "      <th></th>\n",
       "      <th>Rank</th>\n",
       "      <th>Name</th>\n",
       "      <th>Platform</th>\n",
       "      <th>Year</th>\n",
       "      <th>Genre</th>\n",
       "      <th>Publisher</th>\n",
       "      <th>NA_Sales</th>\n",
       "      <th>EU_Sales</th>\n",
       "      <th>JP_Sales</th>\n",
       "      <th>Other_Sales</th>\n",
       "      <th>Global_Sales</th>\n",
       "      <th>Platform_clean</th>\n",
       "      <th>Publisher_parent</th>\n",
       "    </tr>\n",
       "  </thead>\n",
       "  <tbody>\n",
       "    <tr>\n",
       "      <th>4</th>\n",
       "      <td>5</td>\n",
       "      <td>Pokemon Red/Pokemon Blue</td>\n",
       "      <td>GB</td>\n",
       "      <td>1996</td>\n",
       "      <td>Role-Playing</td>\n",
       "      <td>Nintendo</td>\n",
       "      <td>11.27</td>\n",
       "      <td>8.89</td>\n",
       "      <td>10.22</td>\n",
       "      <td>1.00</td>\n",
       "      <td>31.370001</td>\n",
       "      <td>Game Boy</td>\n",
       "      <td>Nintendo</td>\n",
       "    </tr>\n",
       "    <tr>\n",
       "      <th>12</th>\n",
       "      <td>13</td>\n",
       "      <td>Pokemon Gold/Pokemon Silver</td>\n",
       "      <td>GB</td>\n",
       "      <td>1999</td>\n",
       "      <td>Role-Playing</td>\n",
       "      <td>Nintendo</td>\n",
       "      <td>9.00</td>\n",
       "      <td>6.18</td>\n",
       "      <td>7.20</td>\n",
       "      <td>0.71</td>\n",
       "      <td>23.100000</td>\n",
       "      <td>Game Boy</td>\n",
       "      <td>Nintendo</td>\n",
       "    </tr>\n",
       "    <tr>\n",
       "      <th>1</th>\n",
       "      <td>2</td>\n",
       "      <td>Super Mario Bros.</td>\n",
       "      <td>NES</td>\n",
       "      <td>1985</td>\n",
       "      <td>Platform</td>\n",
       "      <td>Nintendo</td>\n",
       "      <td>29.08</td>\n",
       "      <td>3.58</td>\n",
       "      <td>6.81</td>\n",
       "      <td>0.77</td>\n",
       "      <td>40.240002</td>\n",
       "      <td>Nintendo Entertainment System</td>\n",
       "      <td>Nintendo</td>\n",
       "    </tr>\n",
       "    <tr>\n",
       "      <th>6</th>\n",
       "      <td>7</td>\n",
       "      <td>New Super Mario Bros.</td>\n",
       "      <td>DS</td>\n",
       "      <td>2006</td>\n",
       "      <td>Platform</td>\n",
       "      <td>Nintendo</td>\n",
       "      <td>11.38</td>\n",
       "      <td>9.23</td>\n",
       "      <td>6.50</td>\n",
       "      <td>2.90</td>\n",
       "      <td>30.010000</td>\n",
       "      <td>Nintendo DS</td>\n",
       "      <td>Nintendo</td>\n",
       "    </tr>\n",
       "    <tr>\n",
       "      <th>20</th>\n",
       "      <td>21</td>\n",
       "      <td>Pokemon Diamond/Pokemon Pearl</td>\n",
       "      <td>DS</td>\n",
       "      <td>2006</td>\n",
       "      <td>Role-Playing</td>\n",
       "      <td>Nintendo</td>\n",
       "      <td>6.42</td>\n",
       "      <td>4.52</td>\n",
       "      <td>6.04</td>\n",
       "      <td>1.37</td>\n",
       "      <td>18.360001</td>\n",
       "      <td>Nintendo DS</td>\n",
       "      <td>Nintendo</td>\n",
       "    </tr>\n",
       "  </tbody>\n",
       "</table>\n",
       "</div>"
      ],
      "text/plain": [
       "    Rank                           Name Platform  Year         Genre  \\\n",
       "4      5       Pokemon Red/Pokemon Blue       GB  1996  Role-Playing   \n",
       "12    13    Pokemon Gold/Pokemon Silver       GB  1999  Role-Playing   \n",
       "1      2              Super Mario Bros.      NES  1985      Platform   \n",
       "6      7          New Super Mario Bros.       DS  2006      Platform   \n",
       "20    21  Pokemon Diamond/Pokemon Pearl       DS  2006  Role-Playing   \n",
       "\n",
       "   Publisher  NA_Sales  EU_Sales  JP_Sales  Other_Sales  Global_Sales  \\\n",
       "4   Nintendo     11.27      8.89     10.22         1.00     31.370001   \n",
       "12  Nintendo      9.00      6.18      7.20         0.71     23.100000   \n",
       "1   Nintendo     29.08      3.58      6.81         0.77     40.240002   \n",
       "6   Nintendo     11.38      9.23      6.50         2.90     30.010000   \n",
       "20  Nintendo      6.42      4.52      6.04         1.37     18.360001   \n",
       "\n",
       "                   Platform_clean Publisher_parent  \n",
       "4                        Game Boy         Nintendo  \n",
       "12                       Game Boy         Nintendo  \n",
       "1   Nintendo Entertainment System         Nintendo  \n",
       "6                     Nintendo DS         Nintendo  \n",
       "20                    Nintendo DS         Nintendo  "
      ]
     },
     "execution_count": 50,
     "metadata": {},
     "output_type": "execute_result"
    }
   ],
   "source": [
    "df.sort_values(by='JP_Sales',ascending = False).head()"
   ]
  },
  {
   "cell_type": "markdown",
   "id": "ff2f2dc9-bf4d-43bb-a8e7-75d5012b4618",
   "metadata": {},
   "source": [
    "## Top 5 Grossing games in Japan of all time are\n",
    "### 1.) Pokemon Red/Pokemon Blue with 10.22 million copies sold\n",
    "### 2.) Pokemon Gold/Pokemon Silver\twith 7.2 million copies sold\n",
    "### 3.) Super Mario Bros. with 6.81 million copies sold\n",
    "### 4.) New Super Mario Bros. with 6.5 million copies sold\n",
    "### 5.) Pokemon Diamond/Pokemon Pearl with 6.04 million copies sold"
   ]
  },
  {
   "cell_type": "code",
   "execution_count": 51,
   "id": "e3dfb6f1-b89d-4f3f-a371-c6262cfce267",
   "metadata": {
    "scrolled": true
   },
   "outputs": [
    {
     "data": {
      "text/html": [
       "<div>\n",
       "<style scoped>\n",
       "    .dataframe tbody tr th:only-of-type {\n",
       "        vertical-align: middle;\n",
       "    }\n",
       "\n",
       "    .dataframe tbody tr th {\n",
       "        vertical-align: top;\n",
       "    }\n",
       "\n",
       "    .dataframe thead th {\n",
       "        text-align: right;\n",
       "    }\n",
       "</style>\n",
       "<table border=\"1\" class=\"dataframe\">\n",
       "  <thead>\n",
       "    <tr style=\"text-align: right;\">\n",
       "      <th></th>\n",
       "      <th>Rank</th>\n",
       "      <th>Name</th>\n",
       "      <th>Platform</th>\n",
       "      <th>Year</th>\n",
       "      <th>Genre</th>\n",
       "      <th>Publisher</th>\n",
       "      <th>NA_Sales</th>\n",
       "      <th>EU_Sales</th>\n",
       "      <th>JP_Sales</th>\n",
       "      <th>Other_Sales</th>\n",
       "      <th>Global_Sales</th>\n",
       "      <th>Platform_clean</th>\n",
       "      <th>Publisher_parent</th>\n",
       "    </tr>\n",
       "  </thead>\n",
       "  <tbody>\n",
       "    <tr>\n",
       "      <th>0</th>\n",
       "      <td>1</td>\n",
       "      <td>Wii Sports</td>\n",
       "      <td>Wii</td>\n",
       "      <td>2006</td>\n",
       "      <td>Sports</td>\n",
       "      <td>Nintendo</td>\n",
       "      <td>41.490002</td>\n",
       "      <td>29.02</td>\n",
       "      <td>3.77</td>\n",
       "      <td>8.46</td>\n",
       "      <td>82.739998</td>\n",
       "      <td>Nintendo Wii</td>\n",
       "      <td>Nintendo</td>\n",
       "    </tr>\n",
       "    <tr>\n",
       "      <th>1</th>\n",
       "      <td>2</td>\n",
       "      <td>Super Mario Bros.</td>\n",
       "      <td>NES</td>\n",
       "      <td>1985</td>\n",
       "      <td>Platform</td>\n",
       "      <td>Nintendo</td>\n",
       "      <td>29.080000</td>\n",
       "      <td>3.58</td>\n",
       "      <td>6.81</td>\n",
       "      <td>0.77</td>\n",
       "      <td>40.240002</td>\n",
       "      <td>Nintendo Entertainment System</td>\n",
       "      <td>Nintendo</td>\n",
       "    </tr>\n",
       "    <tr>\n",
       "      <th>2</th>\n",
       "      <td>3</td>\n",
       "      <td>Mario Kart Wii</td>\n",
       "      <td>Wii</td>\n",
       "      <td>2008</td>\n",
       "      <td>Racing</td>\n",
       "      <td>Nintendo</td>\n",
       "      <td>15.850000</td>\n",
       "      <td>12.88</td>\n",
       "      <td>3.79</td>\n",
       "      <td>3.31</td>\n",
       "      <td>35.820000</td>\n",
       "      <td>Nintendo Wii</td>\n",
       "      <td>Nintendo</td>\n",
       "    </tr>\n",
       "    <tr>\n",
       "      <th>3</th>\n",
       "      <td>4</td>\n",
       "      <td>Wii Sports Resort</td>\n",
       "      <td>Wii</td>\n",
       "      <td>2009</td>\n",
       "      <td>Sports</td>\n",
       "      <td>Nintendo</td>\n",
       "      <td>15.750000</td>\n",
       "      <td>11.01</td>\n",
       "      <td>3.28</td>\n",
       "      <td>2.96</td>\n",
       "      <td>33.000000</td>\n",
       "      <td>Nintendo Wii</td>\n",
       "      <td>Nintendo</td>\n",
       "    </tr>\n",
       "    <tr>\n",
       "      <th>4</th>\n",
       "      <td>5</td>\n",
       "      <td>Pokemon Red/Pokemon Blue</td>\n",
       "      <td>GB</td>\n",
       "      <td>1996</td>\n",
       "      <td>Role-Playing</td>\n",
       "      <td>Nintendo</td>\n",
       "      <td>11.270000</td>\n",
       "      <td>8.89</td>\n",
       "      <td>10.22</td>\n",
       "      <td>1.00</td>\n",
       "      <td>31.370001</td>\n",
       "      <td>Game Boy</td>\n",
       "      <td>Nintendo</td>\n",
       "    </tr>\n",
       "  </tbody>\n",
       "</table>\n",
       "</div>"
      ],
      "text/plain": [
       "   Rank                      Name Platform  Year         Genre Publisher  \\\n",
       "0     1                Wii Sports      Wii  2006        Sports  Nintendo   \n",
       "1     2         Super Mario Bros.      NES  1985      Platform  Nintendo   \n",
       "2     3            Mario Kart Wii      Wii  2008        Racing  Nintendo   \n",
       "3     4         Wii Sports Resort      Wii  2009        Sports  Nintendo   \n",
       "4     5  Pokemon Red/Pokemon Blue       GB  1996  Role-Playing  Nintendo   \n",
       "\n",
       "    NA_Sales  EU_Sales  JP_Sales  Other_Sales  Global_Sales  \\\n",
       "0  41.490002     29.02      3.77         8.46     82.739998   \n",
       "1  29.080000      3.58      6.81         0.77     40.240002   \n",
       "2  15.850000     12.88      3.79         3.31     35.820000   \n",
       "3  15.750000     11.01      3.28         2.96     33.000000   \n",
       "4  11.270000      8.89     10.22         1.00     31.370001   \n",
       "\n",
       "                  Platform_clean Publisher_parent  \n",
       "0                   Nintendo Wii         Nintendo  \n",
       "1  Nintendo Entertainment System         Nintendo  \n",
       "2                   Nintendo Wii         Nintendo  \n",
       "3                   Nintendo Wii         Nintendo  \n",
       "4                       Game Boy         Nintendo  "
      ]
     },
     "execution_count": 51,
     "metadata": {},
     "output_type": "execute_result"
    }
   ],
   "source": [
    "df.sort_values(by='Global_Sales',ascending = False).head()"
   ]
  },
  {
   "cell_type": "markdown",
   "id": "8a342f59-1ab1-4d68-8cd2-36d3abccfd74",
   "metadata": {},
   "source": [
    "## Top 5 grossing games Globally of all time are\n",
    "### 1.) Wii Sports with 82.74 million copies sold\n",
    "### 2.) Super Mario Bros. with 40.24 million copies sold\n",
    "### 3.) Mario Kart Wii with 35.82 million copies sold\n",
    "### 4.) Wii Sports Resort with 33 million copies sold\n",
    "### 5.) Pokemon Red/Pokemon Blue with 31.37 million copies sold"
   ]
  },
  {
   "cell_type": "code",
   "execution_count": 52,
   "id": "3470adc7-36dc-433f-9959-f83d4582c507",
   "metadata": {},
   "outputs": [],
   "source": [
    "condition = (df['Year'] > 2010)\n",
    "df_new_games = df[condition].sort_values(by='Global_Sales',ascending=False)"
   ]
  },
  {
   "cell_type": "code",
   "execution_count": 53,
   "id": "91063761-c43a-4ed2-ae5f-d28f22650037",
   "metadata": {},
   "outputs": [
    {
     "data": {
      "text/plain": [
       "(3876, 13)"
      ]
     },
     "execution_count": 53,
     "metadata": {},
     "output_type": "execute_result"
    }
   ],
   "source": [
    "df_new_games.shape"
   ]
  },
  {
   "cell_type": "markdown",
   "id": "a5012ea3-7c28-4a97-899d-d83912b2a118",
   "metadata": {},
   "source": [
    "# The dataset countains 3876 games that have been released after 2010"
   ]
  },
  {
   "cell_type": "code",
   "execution_count": 54,
   "id": "2d6ab8b3-61c7-46ec-95b8-ba7f20443ea7",
   "metadata": {},
   "outputs": [
    {
     "data": {
      "text/html": [
       "<div>\n",
       "<style scoped>\n",
       "    .dataframe tbody tr th:only-of-type {\n",
       "        vertical-align: middle;\n",
       "    }\n",
       "\n",
       "    .dataframe tbody tr th {\n",
       "        vertical-align: top;\n",
       "    }\n",
       "\n",
       "    .dataframe thead th {\n",
       "        text-align: right;\n",
       "    }\n",
       "</style>\n",
       "<table border=\"1\" class=\"dataframe\">\n",
       "  <thead>\n",
       "    <tr style=\"text-align: right;\">\n",
       "      <th></th>\n",
       "      <th>Rank</th>\n",
       "      <th>Name</th>\n",
       "      <th>Platform</th>\n",
       "      <th>Year</th>\n",
       "      <th>Genre</th>\n",
       "      <th>Publisher</th>\n",
       "      <th>NA_Sales</th>\n",
       "      <th>EU_Sales</th>\n",
       "      <th>JP_Sales</th>\n",
       "      <th>Other_Sales</th>\n",
       "      <th>Global_Sales</th>\n",
       "      <th>Platform_clean</th>\n",
       "      <th>Publisher_parent</th>\n",
       "    </tr>\n",
       "  </thead>\n",
       "  <tbody>\n",
       "    <tr>\n",
       "      <th>16</th>\n",
       "      <td>17</td>\n",
       "      <td>Grand Theft Auto V</td>\n",
       "      <td>PS3</td>\n",
       "      <td>2013</td>\n",
       "      <td>Action</td>\n",
       "      <td>Take-Two Interactive</td>\n",
       "      <td>7.01</td>\n",
       "      <td>9.27</td>\n",
       "      <td>0.97</td>\n",
       "      <td>4.14</td>\n",
       "      <td>21.400000</td>\n",
       "      <td>PlayStation 3</td>\n",
       "      <td>Take-Two</td>\n",
       "    </tr>\n",
       "    <tr>\n",
       "      <th>23</th>\n",
       "      <td>24</td>\n",
       "      <td>Grand Theft Auto V</td>\n",
       "      <td>X360</td>\n",
       "      <td>2013</td>\n",
       "      <td>Action</td>\n",
       "      <td>Take-Two Interactive</td>\n",
       "      <td>9.63</td>\n",
       "      <td>5.31</td>\n",
       "      <td>0.06</td>\n",
       "      <td>1.38</td>\n",
       "      <td>16.379999</td>\n",
       "      <td>Xbox 360</td>\n",
       "      <td>Take-Two</td>\n",
       "    </tr>\n",
       "    <tr>\n",
       "      <th>29</th>\n",
       "      <td>30</td>\n",
       "      <td>Call of Duty: Modern Warfare 3</td>\n",
       "      <td>X360</td>\n",
       "      <td>2011</td>\n",
       "      <td>Shooter</td>\n",
       "      <td>Activision</td>\n",
       "      <td>9.03</td>\n",
       "      <td>4.28</td>\n",
       "      <td>0.13</td>\n",
       "      <td>1.32</td>\n",
       "      <td>14.760000</td>\n",
       "      <td>Xbox 360</td>\n",
       "      <td>Activision</td>\n",
       "    </tr>\n",
       "    <tr>\n",
       "      <th>32</th>\n",
       "      <td>33</td>\n",
       "      <td>Pokemon X/Pokemon Y</td>\n",
       "      <td>3DS</td>\n",
       "      <td>2013</td>\n",
       "      <td>Role-Playing</td>\n",
       "      <td>Nintendo</td>\n",
       "      <td>5.17</td>\n",
       "      <td>4.05</td>\n",
       "      <td>4.34</td>\n",
       "      <td>0.79</td>\n",
       "      <td>14.350000</td>\n",
       "      <td>Nintendo 3DS</td>\n",
       "      <td>Nintendo</td>\n",
       "    </tr>\n",
       "    <tr>\n",
       "      <th>33</th>\n",
       "      <td>34</td>\n",
       "      <td>Call of Duty: Black Ops 3</td>\n",
       "      <td>PS4</td>\n",
       "      <td>2015</td>\n",
       "      <td>Shooter</td>\n",
       "      <td>Activision</td>\n",
       "      <td>5.77</td>\n",
       "      <td>5.81</td>\n",
       "      <td>0.35</td>\n",
       "      <td>2.31</td>\n",
       "      <td>14.240000</td>\n",
       "      <td>PlayStation 4</td>\n",
       "      <td>Activision</td>\n",
       "    </tr>\n",
       "  </tbody>\n",
       "</table>\n",
       "</div>"
      ],
      "text/plain": [
       "    Rank                            Name Platform  Year         Genre  \\\n",
       "16    17              Grand Theft Auto V      PS3  2013        Action   \n",
       "23    24              Grand Theft Auto V     X360  2013        Action   \n",
       "29    30  Call of Duty: Modern Warfare 3     X360  2011       Shooter   \n",
       "32    33             Pokemon X/Pokemon Y      3DS  2013  Role-Playing   \n",
       "33    34       Call of Duty: Black Ops 3      PS4  2015       Shooter   \n",
       "\n",
       "               Publisher  NA_Sales  EU_Sales  JP_Sales  Other_Sales  \\\n",
       "16  Take-Two Interactive      7.01      9.27      0.97         4.14   \n",
       "23  Take-Two Interactive      9.63      5.31      0.06         1.38   \n",
       "29            Activision      9.03      4.28      0.13         1.32   \n",
       "32              Nintendo      5.17      4.05      4.34         0.79   \n",
       "33            Activision      5.77      5.81      0.35         2.31   \n",
       "\n",
       "    Global_Sales Platform_clean Publisher_parent  \n",
       "16     21.400000  PlayStation 3         Take-Two  \n",
       "23     16.379999       Xbox 360         Take-Two  \n",
       "29     14.760000       Xbox 360       Activision  \n",
       "32     14.350000   Nintendo 3DS         Nintendo  \n",
       "33     14.240000  PlayStation 4       Activision  "
      ]
     },
     "execution_count": 54,
     "metadata": {},
     "output_type": "execute_result"
    }
   ],
   "source": [
    "df_new_games.head()"
   ]
  },
  {
   "cell_type": "markdown",
   "id": "de8b1d67-63ad-4ca0-9ed6-698712f7f883",
   "metadata": {},
   "source": [
    "# Top grossing new games are\n",
    "### 1.) Grand Theft Auto V for PS3 with 21.4 million copies sold globally\n",
    "### 2.) Grand Theft Auto V for Xbox 360 with 16.38 millin copies sold globally\n",
    "### 3.) Call of Duty: Modern Warfare 3 for Xbox 360 with 14.7 million copies sold globally\n",
    "### 4.) Pokemon X/Pokemon Y for 3DS with 14.35 million copies sold globally\n",
    "### 5.) Call of Duty: Black Ops 3 for PS4 with 14.24 million copies sold globally"
   ]
  },
  {
   "cell_type": "code",
   "execution_count": 55,
   "id": "33ee8dbb-9bcb-4db4-8bee-9499890ecfc9",
   "metadata": {},
   "outputs": [
    {
     "data": {
      "text/plain": [
       "Publisher_parent\n",
       "Bandai Namco       401\n",
       "Electronic Arts    252\n",
       "Activision         251\n",
       "Ubisoft            245\n",
       "Nintendo           142\n",
       "Name: count, dtype: int64"
      ]
     },
     "execution_count": 55,
     "metadata": {},
     "output_type": "execute_result"
    }
   ],
   "source": [
    "df_new_games['Publisher_parent'].value_counts().head()"
   ]
  },
  {
   "cell_type": "markdown",
   "id": "29353bf1-0b9b-492f-842f-d6ef6a293257",
   "metadata": {},
   "source": [
    "# In the past 15 years, the companies with the most number of games published are\n",
    "### 1.) Bandai Namco\n",
    "### 2.) Electronic Arts\n",
    "### 3.) Activision\n",
    "### 4.) Ubisoft\n",
    "### 5.) Nintendo"
   ]
  },
  {
   "cell_type": "code",
   "execution_count": 56,
   "id": "aad62a14-85d1-45e9-91c3-e9fba43cbd12",
   "metadata": {},
   "outputs": [
    {
     "data": {
      "text/plain": [
       "Platform_clean\n",
       "Nintendo DS      2131\n",
       "PlayStation 2    2127\n",
       "PlayStation 3    1303\n",
       "Nintendo Wii     1290\n",
       "Xbox 360         1234\n",
       "Name: count, dtype: int64"
      ]
     },
     "execution_count": 56,
     "metadata": {},
     "output_type": "execute_result"
    }
   ],
   "source": [
    "df['Platform_clean'].value_counts().head()"
   ]
  },
  {
   "cell_type": "markdown",
   "id": "e6547411-d963-429a-904a-c1d33befc46d",
   "metadata": {},
   "source": [
    "# Of all time, the platform with the most number of games are\n",
    "### 1.) Nintendo DS with 2131 games\n",
    "### 2.) PlayStation 2 with 2127 games\n",
    "### 3.) Playstation 3 with 1303 games\n",
    "### 4.) Nintendo Wii with 1290 games\n",
    "### 5.) Xbox 360 with 1234 games"
   ]
  },
  {
   "cell_type": "code",
   "execution_count": 57,
   "id": "2ec72369-2c5f-47e0-8965-6bf0995350b9",
   "metadata": {},
   "outputs": [
    {
     "data": {
      "text/plain": [
       "Platform_clean\n",
       "PlayStation 3       704\n",
       "Xbox 360            499\n",
       "Nintendo 3DS        499\n",
       "PlayStation Vita    410\n",
       "PC                  368\n",
       "Name: count, dtype: int64"
      ]
     },
     "execution_count": 57,
     "metadata": {},
     "output_type": "execute_result"
    }
   ],
   "source": [
    "df_new_games['Platform_clean'].value_counts().head()"
   ]
  },
  {
   "cell_type": "markdown",
   "id": "8c2e9af4-c1ad-4941-8ae6-f8b0c0539e69",
   "metadata": {},
   "source": [
    "# In the past 15 years, the platform with the most number of games are\n",
    "### 1.) PlayStation 3 with 704 games\n",
    "### 2.) Xbox 360 with 499 games\n",
    "### 3.) Nintendo 3DS 499 games\n",
    "### 4.) PlayStation Vita 410 games\n",
    "### 5.) PC with 368 games"
   ]
  },
  {
   "cell_type": "markdown",
   "id": "dce47a11-ea40-4391-9d04-3416e2ffb951",
   "metadata": {},
   "source": [
    "## The top 5 publishers of all time vs past 15 years, Nintendo has come in the top 5 of past 15 years"
   ]
  },
  {
   "cell_type": "markdown",
   "id": "eb881d09-7acd-4c76-a0d1-fa3795234100",
   "metadata": {},
   "source": [
    "### Meaning nintendo has made more games in the past 15 years than Konami has"
   ]
  },
  {
   "cell_type": "code",
   "execution_count": 58,
   "id": "65a8f0ce-6aa4-4e5e-ac9c-3d779b1c120c",
   "metadata": {},
   "outputs": [
    {
     "name": "stderr",
     "output_type": "stream",
     "text": [
      "C:\\Users\\shant\\AppData\\Local\\Temp\\ipykernel_11468\\2168982475.py:2: SettingWithCopyWarning: \n",
      "A value is trying to be set on a copy of a slice from a DataFrame\n",
      "\n",
      "See the caveats in the documentation: https://pandas.pydata.org/pandas-docs/stable/user_guide/indexing.html#returning-a-view-versus-a-copy\n",
      "  df_nintendo.sort_values(by='Year', inplace=True)\n"
     ]
    }
   ],
   "source": [
    "df_nintendo = df[df['Publisher_parent']=='Nintendo']\n",
    "df_nintendo.sort_values(by='Year', inplace=True)\n",
    "df_nintendo_grouped = df_nintendo.groupby('Year').agg({'Global_Sales':'mean'}).reset_index()"
   ]
  },
  {
   "cell_type": "code",
   "execution_count": 59,
   "id": "1c32eafe-cf8e-462c-9525-ab2e62058424",
   "metadata": {},
   "outputs": [
    {
     "data": {
      "image/png": "[encoded data removed]",
      "text/plain": [
       "<Figure size 640x480 with 1 Axes>"
      ]
     },
     "metadata": {},
     "output_type": "display_data"
    }
   ],
   "source": [
    "sns.lineplot(x='Year',y='Global_Sales',data=df_nintendo_grouped,color='blue',marker='^')\n",
    "plt.title('Nintendo Revenue Over The Years')\n",
    "plt.show()"
   ]
  },
  {
   "cell_type": "markdown",
   "id": "2e9eab2f-d0d8-4fe6-9706-a35361945da9",
   "metadata": {},
   "source": [
    "### It is evident from the above graph that Nintendo sold more copies of their games on average before 1990 compared to recently and regardless, they are coming out with more games over the years"
   ]
  },
  {
   "cell_type": "code",
   "execution_count": 60,
   "id": "e6e2d05e-3a73-4c9f-aea5-6dcd7d6bde52",
   "metadata": {},
   "outputs": [
    {
     "data": {
      "text/plain": [
       "696"
      ]
     },
     "execution_count": 60,
     "metadata": {},
     "output_type": "execute_result"
    }
   ],
   "source": [
    "df_nintendo['Name'].value_counts().sum()"
   ]
  },
  {
   "cell_type": "code",
   "execution_count": 61,
   "id": "639e365d-71fc-4043-b272-8c9c4d69ca1e",
   "metadata": {},
   "outputs": [],
   "source": [
    "df_nintendo_years = df_nintendo.groupby('Year')['Publisher_parent'].count().rename('Number_of_games_released').reset_index()"
   ]
  },
  {
   "cell_type": "code",
   "execution_count": 62,
   "id": "6cf17895-7bf4-489b-a711-58a3ccda8b6c",
   "metadata": {},
   "outputs": [
    {
     "data": {
      "image/png": "[encoded data removed]",
      "text/plain": [
       "<Figure size 640x480 with 1 Axes>"
      ]
     },
     "metadata": {},
     "output_type": "display_data"
    }
   ],
   "source": [
    "sns.lineplot(x='Year',y='Number_of_games_released',data=df_nintendo_years,color='red',marker='*',label='Year vs Number of Games')\n",
    "plt.title('Number of Games Released by Nintendo Over the Years')\n",
    "plt.legend()\n",
    "plt.xlabel('Years')\n",
    "plt.ylabel('Number of games')\n",
    "plt.xticks(rotation=45)\n",
    "plt.show()"
   ]
  },
  {
   "cell_type": "markdown",
   "id": "cd15b8df-c39b-474d-b661-a02c86ce843e",
   "metadata": {},
   "source": [
    "## It is evident from the above chart that nintendo has published a large number of games between 2000 and 2015 despite decreasing number of sales before significantly reducing number of games published by 2015"
   ]
  },
  {
   "cell_type": "code",
   "execution_count": 63,
   "id": "695cd18c-4926-4805-bab5-65645c9e78b2",
   "metadata": {},
   "outputs": [
    {
     "data": {
      "text/plain": [
       "Genre\n",
       "Action          3251\n",
       "Sports          2303\n",
       "Misc            1686\n",
       "Role-Playing    1470\n",
       "Shooter         1282\n",
       "Adventure       1274\n",
       "Racing          1225\n",
       "Platform         875\n",
       "Simulation       848\n",
       "Fighting         836\n",
       "Strategy         670\n",
       "Puzzle           570\n",
       "Name: count, dtype: int64"
      ]
     },
     "execution_count": 63,
     "metadata": {},
     "output_type": "execute_result"
    }
   ],
   "source": [
    "df['Genre'].value_counts()"
   ]
  },
  {
   "cell_type": "markdown",
   "id": "ea0958b9-4e80-41d0-b456-c970b52ab102",
   "metadata": {},
   "source": [
    "# Top 5 Genres of all time are\n",
    "### 1.) Action with 3251 games released\n",
    "### 2.) Sports with 2303 games released\n",
    "### 3.) Misc with 1686 games released (Not considering this as Misc is very vague)\n",
    "### 3.) Role-playing with 1470 games released\n",
    "### 4.) Shooter with 1282 games released\n",
    "### 5.) Adventure with 1274 games released"
   ]
  },
  {
   "cell_type": "code",
   "execution_count": 64,
   "id": "827afae9-756f-4372-a9c3-b7f04891d309",
   "metadata": {},
   "outputs": [],
   "source": [
    "df_genre_alltime = df['Genre'].value_counts().reset_index()\n",
    "df_genre_new = df_new_games['Genre'].value_counts().reset_index()\n",
    "df_genre_new.columns = ['Genre','new_count']\n",
    "df_genre_count = pd.merge(df_genre_alltime,df_genre_new,on='Genre',how='left')\n",
    "df_genre_count['count_percentage'] = (df_genre_count['count']/df_genre_count['count'].sum())*100\n",
    "df_genre_count['new_count_percentage'] = (df_genre_count['new_count']/df_genre_count['new_count'].sum())*100"
   ]
  },
  {
   "cell_type": "code",
   "execution_count": 65,
   "id": "94d9117c-0ea4-4ce9-95f5-0e3c76085dd6",
   "metadata": {},
   "outputs": [
    {
     "data": {
      "image/png": "[encoded data removed]",
      "text/plain": [
       "<Figure size 1400x600 with 2 Axes>"
      ]
     },
     "metadata": {},
     "output_type": "display_data"
    }
   ],
   "source": [
    "fig, ax = plt.subplots(1, 2, figsize=(14, 6))  # Increased width for better spacing\n",
    "\n",
    "# All-time genre count\n",
    "sns.barplot(x='Genre', y='count', data=df_genre_alltime, color='purple', ax=ax[0])\n",
    "ax[0].set_title('Number Of Games by Genre (All Time)')\n",
    "ax[0].set_xlabel('Genre')\n",
    "ax[0].set_ylabel('Number of Games')\n",
    "ax[0].tick_params(axis='x', rotation=45)\n",
    "\n",
    "# Past 15 years genre count\n",
    "sns.barplot(x='Genre', y='new_count', data=df_genre_new, color='green', ax=ax[1])\n",
    "ax[1].set_title('Number Of Games by Genre (Past 15 Years)')\n",
    "ax[1].set_xlabel('Genre')\n",
    "ax[1].set_ylabel('Number of Games')\n",
    "ax[1].tick_params(axis='x', rotation=45)\n",
    "\n",
    "plt.tight_layout()\n",
    "plt.show()"
   ]
  },
  {
   "cell_type": "markdown",
   "id": "850c7017-06cd-4f27-9d1f-8f2ce2905c25",
   "metadata": {},
   "source": [
    "## It is clear from the above chart pattern that action games have remained consistent but other genres have reduced"
   ]
  },
  {
   "cell_type": "code",
   "execution_count": 66,
   "id": "bfcf4f31-5a31-44ab-be4a-e9bc72c3e3b0",
   "metadata": {},
   "outputs": [
    {
     "data": {
      "text/plain": [
       "([0, 1, 2, 3, 4, 5, 6, 7, 8, 9, 10, 11],\n",
       " [Text(0, 0, 'Action'),\n",
       "  Text(1, 0, 'Sports'),\n",
       "  Text(2, 0, 'Misc'),\n",
       "  Text(3, 0, 'Role-Playing'),\n",
       "  Text(4, 0, 'Shooter'),\n",
       "  Text(5, 0, 'Adventure'),\n",
       "  Text(6, 0, 'Racing'),\n",
       "  Text(7, 0, 'Platform'),\n",
       "  Text(8, 0, 'Simulation'),\n",
       "  Text(9, 0, 'Fighting'),\n",
       "  Text(10, 0, 'Strategy'),\n",
       "  Text(11, 0, 'Puzzle')])"
      ]
     },
     "execution_count": 66,
     "metadata": {},
     "output_type": "execute_result"
    },
    {
     "data": {
      "image/png": "[encoded data removed]",
      "text/plain": [
       "<Figure size 800x800 with 1 Axes>"
      ]
     },
     "metadata": {},
     "output_type": "display_data"
    }
   ],
   "source": [
    "plt.figure(figsize=(8,8))\n",
    "sns.barplot(x='Genre', y='count', data=df_genre_count, color='blue')\n",
    "sns.barplot(x='Genre', y='new_count', data=df_genre_count, color='yellow')\n",
    "x_positions = range(len(df_genre_count))\n",
    "plt.plot(x_positions, df_genre_count['new_count'], color='black', marker='o', linewidth=2, label='Trend Line (New Count)')\n",
    "plt.plot(x_positions, df_genre_count['count'], color='black', marker='o', linewidth=2, label='Trend Line (Count)')\n",
    "plt.title('Number Of Games by Genre (Past 15 Years)')\n",
    "plt.xlabel('Genre')\n",
    "plt.ylabel('Number of Games')\n",
    "plt.xticks(rotation=45)"
   ]
  },
  {
   "cell_type": "markdown",
   "id": "82c6bb78-d5db-4dc9-8f94-cb1f04bda08a",
   "metadata": {},
   "source": [
    "## It is clear from the above chart that there is a trend change whereby other genres such as sports, misc, platform, simulation, fighting, strategy and puzzle genre games have reduced production in the past 15 years as there are similar trend for action, shooter, role-playing and adventure games compared to all time trend"
   ]
  },
  {
   "cell_type": "code",
   "execution_count": 67,
   "id": "57ab1a8e-9f10-4a84-b0eb-b17e9da198cc",
   "metadata": {},
   "outputs": [
    {
     "data": {
      "image/png": "[encoded data removed]",
      "text/plain": [
       "<Figure size 640x480 with 1 Axes>"
      ]
     },
     "metadata": {},
     "output_type": "display_data"
    }
   ],
   "source": [
    "sns.lineplot(data = df_genre_count, x='Genre', y='count_percentage',color='red', marker='o', linewidth=2,label='All Time')\n",
    "sns.lineplot(data = df_genre_count, x='Genre', y='new_count_percentage',color='black', marker='o', linewidth=2,label='Past 15 Years')\n",
    "plt.legend()\n",
    "plt.title('Comparison of trend of genre releases of all time vs Past 15 years')\n",
    "plt.xlabel('Genres')\n",
    "plt.ylabel('Percentage of total games released')\n",
    "plt.xticks(rotation=45)\n",
    "plt.show()"
   ]
  },
  {
   "cell_type": "markdown",
   "id": "36d5e468-4d2f-4db8-a02d-9d326814da6b",
   "metadata": {},
   "source": [
    "## Above comparison shows clear increase in the number of Action, Role-playing and Adventure games being produced in the past 15 years. Shooter games are being produced at a similar pace to the all time level, while other genres have decreased."
   ]
  },
  {
   "cell_type": "code",
   "execution_count": 68,
   "id": "a1e9dff3-b240-45b2-893b-fb3513d8efa5",
   "metadata": {},
   "outputs": [],
   "source": [
    "df_genres_NA = df.groupby('Genre')['NA_Sales'].sum().reset_index()\n",
    "df_genres_EU = df.groupby('Genre')['EU_Sales'].sum().reset_index()\n",
    "df_genres_JP = df.groupby('Genre')['JP_Sales'].sum().reset_index()\n",
    "df_genres_others = df.groupby('Genre')['Other_Sales'].sum().reset_index()\n",
    "df_genres_global = df.groupby('Genre')['Global_Sales'].sum().reset_index()\n",
    "df_genres_by_countries = df_genres_global.merge(df_genres_NA,on='Genre',how='left').merge(df_genres_EU,on='Genre',how='left').merge(df_genres_JP,on='Genre',how='left').merge(df_genres_others,on='Genre',how='left')\n",
    "df_genres_by_countries['Global_Sales_percentage'] = (df_genres_by_countries['Global_Sales']/df_genres_by_countries['Global_Sales'].sum())*100\n",
    "df_genres_by_countries['NA_Sales_percentage'] = (df_genres_by_countries['NA_Sales']/df_genres_by_countries['NA_Sales'].sum())*100\n",
    "df_genres_by_countries['EU_Sales_percentage'] = (df_genres_by_countries['EU_Sales']/df_genres_by_countries['EU_Sales'].sum())*100\n",
    "df_genres_by_countries['JP_Sales_percentage'] = (df_genres_by_countries['JP_Sales']/df_genres_by_countries['JP_Sales'].sum())*100\n",
    "df_genres_by_countries['Other_Sales_percentage'] = (df_genres_by_countries['Other_Sales']/df_genres_by_countries['Other_Sales'].sum())*100"
   ]
  },
  {
   "cell_type": "code",
   "execution_count": 69,
   "id": "05d8167a-a52f-4c07-a6d5-6d15d8d92848",
   "metadata": {},
   "outputs": [
    {
     "data": {
      "image/png": "[encoded data removed]",
      "text/plain": [
       "<Figure size 640x480 with 1 Axes>"
      ]
     },
     "metadata": {},
     "output_type": "display_data"
    }
   ],
   "source": [
    "sns.lineplot(data = df_genres_by_countries, x='Genre', y='Global_Sales_percentage',color='blue', marker='o', linewidth=2,label='Global Sales')\n",
    "sns.lineplot(data = df_genres_by_countries, x='Genre', y='NA_Sales_percentage',color='orange', marker='s', linewidth=2,label='NA Sales')\n",
    "sns.lineplot(data = df_genres_by_countries, x='Genre', y='EU_Sales_percentage',color='green', marker='*', linewidth=2,label='EU Sales')\n",
    "sns.lineplot(data = df_genres_by_countries, x='Genre', y='JP_Sales_percentage',color='red', marker='^', linewidth=2,label='Japan Sales')\n",
    "sns.lineplot(data = df_genres_by_countries, x='Genre', y='Other_Sales_percentage',color='purple', marker='D', linewidth=2,label='Other Region Sales')\n",
    "plt.legend()\n",
    "plt.title('Comparison of trend of Genre Sales of all time over different Regions')\n",
    "plt.xlabel('Genres')\n",
    "plt.ylabel('Percentage of sales')\n",
    "plt.xticks(rotation=45)\n",
    "plt.show()"
   ]
  },
  {
   "cell_type": "markdown",
   "id": "89654a7e-d517-4e6c-be71-0a065e3156eb",
   "metadata": {},
   "source": [
    "## It is clear from the above chart that \n",
    "### Japan region plays significantly more role-playing and fighting games while playing significantly lesser number of action, racing, shooter and sports games. \n",
    "### Trend of purchases of other regions are almost similar except for global salses of role-playing games being higher than EU, NA and Other region sales most probably being influenced by Japan\n",
    "### Other regions also play significantly more Action and Sports games"
   ]
  },
  {
   "cell_type": "code",
   "execution_count": 70,
   "id": "e221dde6-06b0-4ad5-a6d3-adf78654d1a3",
   "metadata": {},
   "outputs": [],
   "source": [
    "df_pubs_sales = df.groupby('Publisher_parent').agg({'NA_Sales':'sum','EU_Sales':'sum','JP_Sales':'sum','Other_Sales':'sum','Global_Sales':'sum'}).reset_index()\n",
    "df_pubs_sales.sort_values(by='Global_Sales',ascending=False,inplace=True)"
   ]
  },
  {
   "cell_type": "markdown",
   "id": "96b281a9-bc82-4fa5-8bd6-b9211598852f",
   "metadata": {},
   "source": [
    "# Top 5 Publishers of NA and EU regions along with globally are \n",
    "### 1.) Nintendo\n",
    "### 2.) Electronic Arts\n",
    "### 3.) Activision\n",
    "### 4.) Sony\n",
    "### 5.) Ubisoft"
   ]
  },
  {
   "cell_type": "markdown",
   "id": "75fc22e0-6d66-4968-8bef-55d707332b9b",
   "metadata": {},
   "source": [
    "# For other regions, top 5 Publishers are\n",
    "### 1.) Electronic Arts\n",
    "### 2.) Nintendo\n",
    "### 3.) Sony\n",
    "### 4.) Activision\n",
    "### 5.) Take-Two"
   ]
  },
  {
   "cell_type": "markdown",
   "id": "89d674bc-3ab3-4a3a-b5fc-c410655844e1",
   "metadata": {},
   "source": [
    "# For Japan region, top 5 Publishers are\n",
    "### 1.) Nintendo\n",
    "### 2.) Bandai Namco\n",
    "### 3.) Konami\n",
    "### 4.) Sony\n",
    "### 5.) Capcom"
   ]
  },
  {
   "cell_type": "markdown",
   "id": "0a20a7ab-888c-4c9c-8b26-ec4cf6f37ec7",
   "metadata": {},
   "source": [
    "# All top publishers are\n",
    "### Nintendo, Sony, Activision, Electronic Arts, Ubisoft, Take-Two, Bandai Namco, Konami, Capcom"
   ]
  },
  {
   "cell_type": "code",
   "execution_count": 71,
   "id": "b36b4c83-e244-4e3b-a5fb-603380005f2b",
   "metadata": {},
   "outputs": [],
   "source": [
    "df_pubs_year = df.groupby(['Publisher_parent','Year']).agg({'Global_Sales':'sum'}).sort_values(by='Global_Sales',ascending=False).reset_index()\n",
    "top_publishers = ['Nintendo', 'Sony', 'Electronic Arts', 'Activision', 'Ubisoft']\n",
    "df_top5 = df_pubs_year[df_pubs_year['Publisher_parent'].isin(top_publishers)]"
   ]
  },
  {
   "cell_type": "code",
   "execution_count": 72,
   "id": "58003d61-4261-4168-bf5b-5344f1278baf",
   "metadata": {},
   "outputs": [
    {
     "data": {
      "image/png": "[encoded data removed]",
      "text/plain": [
       "<Figure size 1200x600 with 1 Axes>"
      ]
     },
     "metadata": {},
     "output_type": "display_data"
    }
   ],
   "source": [
    "plt.figure(figsize=(12, 6))\n",
    "sns.lineplot(data=df_top5, x='Year', y='Global_Sales', hue='Publisher_parent', marker='o')\n",
    "plt.title('Global Sales Over the Years by Top 5 Publishers')\n",
    "plt.xlabel('Year')\n",
    "plt.ylabel('Global Sales (in millions)')\n",
    "plt.legend(title='Publisher')\n",
    "plt.grid(True)\n",
    "plt.tight_layout()\n",
    "plt.show()"
   ]
  },
  {
   "cell_type": "markdown",
   "id": "84ef33a8-1c1e-417a-ad9d-4115f69af32f",
   "metadata": {},
   "source": [
    "## Above graph shows that over the years, out of all top 5 global publishers, Nintendo sales were significantly high till 2010 at which point, it normalized along with others.\n",
    "## The year 2006 was especially good for Nintendo with 205.61 million games sold across titles. This is most probably due to the release of the Nintendo Wii platform which was released in 2006\n",
    "## Nintendo saw significant fall in sales after 2009\n",
    "## All other titles started doing well after 1995 apart from Ubisoft which saw growth after 2000\n",
    "## Electronic Arts saw signigicant increase of sales in 2000 and significant fall in 2015\n",
    "## Activision had a steady growth whcih took off significantly after 2005 along with Ubisoft at the same time\n",
    "## Sony sales have been consistent throughout, but falling gradually from shortly after 2000"
   ]
  },
  {
   "cell_type": "markdown",
   "id": "e3fe0a8c-a446-4128-9b55-f8b1187299d5",
   "metadata": {},
   "source": [
    "# Video Game Sales Analysis\n",
    "\n",
    "## Dataset Summary\n",
    "- **Dataset**: Video Game Sales (by platform, genre, publisher, etc.)\n",
    "- **Source**: Public CSV from Kaggle\n",
    "- **Features Used**: `Name`, `Platform`, `Year`, `Genre`, `Publisher`, `Global_Sales`, etc.\n",
    "- **Objective**: Practice EDA skills and explore patterns in global video game sales across time and platforms\n",
    "\n",
    "---\n",
    "\n",
    "## Data Cleaning & Preparation\n",
    "- Checked `df.info()` → No null values in key columns like `Year`, `Genre`, `Platform`, `Global_Sales`\n",
    "- Converted `Year` to integer to allow proper sorting and time-based analysis\n",
    "- Dropped unnecessary columns like `Rank`\n",
    "- Cleaned column names (if required) for easier access\n",
    "\n",
    "---\n",
    "\n",
    "## Key Analyses & Visuals\n",
    "\n",
    "### 1. Total Global Sales Over the Years\n",
    "- Plotted total sales per year\n",
    "- Revealed peak years between **2005 and 2010**, with 2008 being a major spike\n",
    "- Outlier years retained to preserve historical patterns (e.g., Wii's launch)\n",
    "\n",
    "### 2. Platform Popularity\n",
    "- Countplot of game count by platform\n",
    "- `DS`, `PS2`, and `Wii` dominate in terms of number of titles released\n",
    "- Older consoles like NES and SNES still have a strong legacy footprint\n",
    "\n",
    "### 3. Genre Distribution\n",
    "- Bar plot of number of games released per genre\n",
    "- **Action** and **Sports** genres dominate\n",
    "- RPGs, Platformers, and Shooters also significant\n",
    "\n",
    "### 4. Global Sales by Genre\n",
    "- Aggregated and plotted `Global_Sales` by genre\n",
    "- **Shooter** and **Platform** genres topped global sales, despite fewer total titles\n",
    "- Action genre had both quantity and moderate sales\n",
    "\n",
    "### 5. Top 10 Publishers by Sales\n",
    "- Grouped by `Publisher`, aggregated `Global_Sales`\n",
    "- Visualized top 10 publishers\n",
    "- **Nintendo**, **Electronic Arts**, and **Activision** dominate the leaderboard\n",
    "\n",
    "---\n",
    "\n",
    "## 🧠 Insights\n",
    "\n",
    "- **Nintendo's historical dominance** stands out — both in hardware and publishing\n",
    "- The **2006–2010 boom** reflects console wars (PS3, Xbox 360, Wii) and massive game library expansion\n",
    "- **Game volume ≠ total sales** — some genres like Shooter and Platform bring higher revenue per title\n",
    "- **Action, Shooter, Sports, Racing** genres dominate the global market\n",
    "- Sharp decrease in **Platformer and Puzzle** games in the past 15 years\n",
    "\n",
    "---\n",
    "\n",
    "## Conclusion\n",
    "\n",
    "This was my **second ever EDA** project. Focused mostly on exploring the dataset, slicing and aggregating values, and practicing Seaborn/Matplotlib. I intentionally kept outliers like the Wii spike to preserve story and learning. While I haven’t covered the business side yet, I’m building muscle on the coding and visualization front.\n",
    "\n",
    "The grind continues. More refined, interactive, and domain-specific work coming up soon.\n",
    "\n"
   ]
  }
 ],
 "metadata": {
  "kernelspec": {
   "display_name": "Python [conda env:base] *",
   "language": "python",
   "name": "conda-base-py"
  },
  "language_info": {
   "codemirror_mode": {
    "name": "ipython",
    "version": 3
   },
   "file_extension": ".py",
   "mimetype": "text/x-python",
   "name": "python",
   "nbconvert_exporter": "python",
   "pygments_lexer": "ipython3",
   "version": "3.12.7"
  }
 },
 "nbformat": 4,
 "nbformat_minor": 5
}
